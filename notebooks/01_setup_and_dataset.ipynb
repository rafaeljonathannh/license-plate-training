{
 "cells": [
  {
   "cell_type": "markdown",
   "metadata": {},
   "source": [
    "# License Plate Training Setup and Dataset\n",
    "\n",
    "This notebook handles environment verification and Indonesian license plate dataset acquisition for YOLOv8 training.\n",
    "\n",
    "## Tasks:\n",
    "- [x] Verify GPU availability\n",
    "- [ ] Check CUDA version compatibility\n",
    "- [ ] Download Indonesian license plate datasets\n",
    "- [ ] Verify dataset integrity\n",
    "- [ ] Initial dataset statistics"
   ]
  },
  {
   "cell_type": "markdown",
   "metadata": {},
   "source": [
    "## 1. Environment Verification"
   ]
  },
  {
   "cell_type": "code",
   "execution_count": 1,
   "metadata": {},
   "outputs": [
    {
     "name": "stdout",
     "output_type": "stream",
     "text": [
      "Requirement already satisfied: seaborn in c:\\users\\rafael jonathan\\desktop\\license-plate-training\\venv\\lib\\site-packages (0.13.2)\n",
      "Requirement already satisfied: numpy!=1.24.0,>=1.20 in c:\\users\\rafael jonathan\\desktop\\license-plate-training\\venv\\lib\\site-packages (from seaborn) (2.2.6)\n",
      "Requirement already satisfied: pandas>=1.2 in c:\\users\\rafael jonathan\\desktop\\license-plate-training\\venv\\lib\\site-packages (from seaborn) (2.3.1)\n",
      "Requirement already satisfied: matplotlib!=3.6.1,>=3.4 in c:\\users\\rafael jonathan\\desktop\\license-plate-training\\venv\\lib\\site-packages (from seaborn) (3.10.5)\n",
      "Requirement already satisfied: contourpy>=1.0.1 in c:\\users\\rafael jonathan\\desktop\\license-plate-training\\venv\\lib\\site-packages (from matplotlib!=3.6.1,>=3.4->seaborn) (1.3.3)\n",
      "Requirement already satisfied: cycler>=0.10 in c:\\users\\rafael jonathan\\desktop\\license-plate-training\\venv\\lib\\site-packages (from matplotlib!=3.6.1,>=3.4->seaborn) (0.12.1)\n",
      "Requirement already satisfied: fonttools>=4.22.0 in c:\\users\\rafael jonathan\\desktop\\license-plate-training\\venv\\lib\\site-packages (from matplotlib!=3.6.1,>=3.4->seaborn) (4.59.0)\n",
      "Requirement already satisfied: kiwisolver>=1.3.1 in c:\\users\\rafael jonathan\\desktop\\license-plate-training\\venv\\lib\\site-packages (from matplotlib!=3.6.1,>=3.4->seaborn) (1.4.8)\n",
      "Requirement already satisfied: packaging>=20.0 in c:\\users\\rafael jonathan\\desktop\\license-plate-training\\venv\\lib\\site-packages (from matplotlib!=3.6.1,>=3.4->seaborn) (25.0)\n",
      "Requirement already satisfied: pillow>=8 in c:\\users\\rafael jonathan\\desktop\\license-plate-training\\venv\\lib\\site-packages (from matplotlib!=3.6.1,>=3.4->seaborn) (11.3.0)\n",
      "Requirement already satisfied: pyparsing>=2.3.1 in c:\\users\\rafael jonathan\\desktop\\license-plate-training\\venv\\lib\\site-packages (from matplotlib!=3.6.1,>=3.4->seaborn) (3.2.3)\n",
      "Requirement already satisfied: python-dateutil>=2.7 in c:\\users\\rafael jonathan\\desktop\\license-plate-training\\venv\\lib\\site-packages (from matplotlib!=3.6.1,>=3.4->seaborn) (2.9.0.post0)\n",
      "Requirement already satisfied: pytz>=2020.1 in c:\\users\\rafael jonathan\\desktop\\license-plate-training\\venv\\lib\\site-packages (from pandas>=1.2->seaborn) (2025.2)\n",
      "Requirement already satisfied: tzdata>=2022.7 in c:\\users\\rafael jonathan\\desktop\\license-plate-training\\venv\\lib\\site-packages (from pandas>=1.2->seaborn) (2025.2)\n",
      "Requirement already satisfied: six>=1.5 in c:\\users\\rafael jonathan\\desktop\\license-plate-training\\venv\\lib\\site-packages (from python-dateutil>=2.7->matplotlib!=3.6.1,>=3.4->seaborn) (1.17.0)\n",
      "Note: you may need to restart the kernel to use updated packages.\n",
      "Environment Check:\n",
      "Python version: 3.13.2 (tags/v3.13.2:4f8bb39, Feb  4 2025, 15:23:48) [MSC v.1942 64 bit (AMD64)]\n",
      "PyTorch version: 2.7.1+cpu\n",
      "Torchvision version: 0.22.1+cpu\n",
      "Ultralytics version: 8.3.173\n",
      "OpenCV version: 4.10.0\n",
      "NumPy version: 2.2.6\n",
      "Pandas version: 2.3.1\n"
     ]
    }
   ],
   "source": [
    "%pip install seaborn\n",
    "\n",
    "import sys\n",
    "import torch\n",
    "import torchvision\n",
    "import ultralytics\n",
    "import cv2\n",
    "import numpy as np\n",
    "import pandas as pd\n",
    "import matplotlib.pyplot as plt\n",
    "import seaborn as sns\n",
    "from pathlib import Path\n",
    "import os\n",
    "from datetime import datetime\n",
    "\n",
    "print(\"Environment Check:\")\n",
    "print(f\"Python version: {sys.version}\")\n",
    "print(f\"PyTorch version: {torch.__version__}\")\n",
    "print(f\"Torchvision version: {torchvision.__version__}\")\n",
    "print(f\"Ultralytics version: {ultralytics.__version__}\")\n",
    "print(f\"OpenCV version: {cv2.__version__}\")\n",
    "print(f\"NumPy version: {np.__version__}\")\n",
    "print(f\"Pandas version: {pd.__version__}\")"
   ]
  },
  {
   "cell_type": "code",
   "execution_count": 2,
   "metadata": {},
   "outputs": [
    {
     "name": "stdout",
     "output_type": "stream",
     "text": [
      "GPU/CUDA Information:\n",
      "CUDA available: False\n",
      "CUDA version: N/A (CPU-only training)\n",
      "Warning: Training will be significantly slower on CPU\n",
      "Consider installing CUDA-enabled PyTorch for GPU acceleration\n"
     ]
    }
   ],
   "source": [
    "# GPU and CUDA availability check\n",
    "print(\"GPU/CUDA Information:\")\n",
    "print(f\"CUDA available: {torch.cuda.is_available()}\")\n",
    "\n",
    "if torch.cuda.is_available():\n",
    "    print(f\"CUDA version: {torch.version.cuda}\")\n",
    "    print(f\"GPU count: {torch.cuda.device_count()}\")\n",
    "    for i in range(torch.cuda.device_count()):\n",
    "        print(f\"GPU {i}: {torch.cuda.get_device_name(i)}\")\n",
    "        print(f\"  Memory: {torch.cuda.get_device_properties(i).total_memory / 1e9:.1f} GB\")\n",
    "else:\n",
    "    print(\"CUDA version: N/A (CPU-only training)\")\n",
    "    print(\"Warning: Training will be significantly slower on CPU\")\n",
    "    print(\"Consider installing CUDA-enabled PyTorch for GPU acceleration\")"
   ]
  },
  {
   "cell_type": "markdown",
   "metadata": {},
   "source": [
    "## 2. Directory Structure Verification"
   ]
  },
  {
   "cell_type": "markdown",
   "metadata": {},
   "source": [
    "## 3. Install Additional Dependencies"
   ]
  },
  {
   "cell_type": "code",
   "execution_count": 3,
   "metadata": {},
   "outputs": [
    {
     "name": "stdout",
     "output_type": "stream",
     "text": [
      "Requirement already satisfied: roboflow in c:\\users\\rafael jonathan\\desktop\\license-plate-training\\venv\\lib\\site-packages (1.2.3)\n",
      "Requirement already satisfied: python-dotenv in c:\\users\\rafael jonathan\\desktop\\license-plate-training\\venv\\lib\\site-packages (1.1.1)\n",
      "Requirement already satisfied: certifi in c:\\users\\rafael jonathan\\desktop\\license-plate-training\\venv\\lib\\site-packages (from roboflow) (2025.8.3)\n",
      "Requirement already satisfied: idna==3.7 in c:\\users\\rafael jonathan\\desktop\\license-plate-training\\venv\\lib\\site-packages (from roboflow) (3.7)\n",
      "Requirement already satisfied: cycler in c:\\users\\rafael jonathan\\desktop\\license-plate-training\\venv\\lib\\site-packages (from roboflow) (0.12.1)\n",
      "Requirement already satisfied: kiwisolver>=1.3.1 in c:\\users\\rafael jonathan\\desktop\\license-plate-training\\venv\\lib\\site-packages (from roboflow) (1.4.8)\n",
      "Requirement already satisfied: matplotlib in c:\\users\\rafael jonathan\\desktop\\license-plate-training\\venv\\lib\\site-packages (from roboflow) (3.10.5)\n",
      "Requirement already satisfied: numpy>=1.18.5 in c:\\users\\rafael jonathan\\desktop\\license-plate-training\\venv\\lib\\site-packages (from roboflow) (2.2.6)\n",
      "Requirement already satisfied: opencv-python-headless==4.10.0.84 in c:\\users\\rafael jonathan\\desktop\\license-plate-training\\venv\\lib\\site-packages (from roboflow) (4.10.0.84)\n",
      "Requirement already satisfied: Pillow>=7.1.2 in c:\\users\\rafael jonathan\\desktop\\license-plate-training\\venv\\lib\\site-packages (from roboflow) (11.3.0)\n",
      "Requirement already satisfied: pi-heif<2 in c:\\users\\rafael jonathan\\desktop\\license-plate-training\\venv\\lib\\site-packages (from roboflow) (1.1.0)\n",
      "Requirement already satisfied: pillow-avif-plugin<2 in c:\\users\\rafael jonathan\\desktop\\license-plate-training\\venv\\lib\\site-packages (from roboflow) (1.5.2)\n",
      "Requirement already satisfied: python-dateutil in c:\\users\\rafael jonathan\\desktop\\license-plate-training\\venv\\lib\\site-packages (from roboflow) (2.9.0.post0)\n",
      "Requirement already satisfied: requests in c:\\users\\rafael jonathan\\desktop\\license-plate-training\\venv\\lib\\site-packages (from roboflow) (2.32.4)\n",
      "Requirement already satisfied: six in c:\\users\\rafael jonathan\\desktop\\license-plate-training\\venv\\lib\\site-packages (from roboflow) (1.17.0)\n",
      "Requirement already satisfied: urllib3>=1.26.6 in c:\\users\\rafael jonathan\\desktop\\license-plate-training\\venv\\lib\\site-packages (from roboflow) (2.5.0)\n",
      "Requirement already satisfied: tqdm>=4.41.0 in c:\\users\\rafael jonathan\\desktop\\license-plate-training\\venv\\lib\\site-packages (from roboflow) (4.67.1)\n",
      "Requirement already satisfied: PyYAML>=5.3.1 in c:\\users\\rafael jonathan\\desktop\\license-plate-training\\venv\\lib\\site-packages (from roboflow) (6.0.2)\n",
      "Requirement already satisfied: requests-toolbelt in c:\\users\\rafael jonathan\\desktop\\license-plate-training\\venv\\lib\\site-packages (from roboflow) (1.0.0)\n",
      "Requirement already satisfied: filetype in c:\\users\\rafael jonathan\\desktop\\license-plate-training\\venv\\lib\\site-packages (from roboflow) (1.2.0)\n",
      "Requirement already satisfied: colorama in c:\\users\\rafael jonathan\\desktop\\license-plate-training\\venv\\lib\\site-packages (from tqdm>=4.41.0->roboflow) (0.4.6)\n",
      "Requirement already satisfied: contourpy>=1.0.1 in c:\\users\\rafael jonathan\\desktop\\license-plate-training\\venv\\lib\\site-packages (from matplotlib->roboflow) (1.3.3)\n",
      "Requirement already satisfied: fonttools>=4.22.0 in c:\\users\\rafael jonathan\\desktop\\license-plate-training\\venv\\lib\\site-packages (from matplotlib->roboflow) (4.59.0)\n",
      "Requirement already satisfied: packaging>=20.0 in c:\\users\\rafael jonathan\\desktop\\license-plate-training\\venv\\lib\\site-packages (from matplotlib->roboflow) (25.0)\n",
      "Requirement already satisfied: pyparsing>=2.3.1 in c:\\users\\rafael jonathan\\desktop\\license-plate-training\\venv\\lib\\site-packages (from matplotlib->roboflow) (3.2.3)\n",
      "Requirement already satisfied: charset_normalizer<4,>=2 in c:\\users\\rafael jonathan\\desktop\\license-plate-training\\venv\\lib\\site-packages (from requests->roboflow) (3.4.2)\n"
     ]
    }
   ],
   "source": [
    "# Install required packages for dataset download\n",
    "!pip install roboflow python-dotenv"
   ]
  },
  {
   "cell_type": "markdown",
   "metadata": {},
   "source": [
    "## 4. Dataset Download - Plat Kendaraan (Largest Indonesian License Plate Dataset)\n",
    "\n",
    "**Dataset Details:**\n",
    "- **Source:** Roboflow Universe - Plat Kendaraan\n",
    "- **Images:** 2,167 total (larger dataset for better training)\n",
    "- **Format:** YOLO TXT with YAML config\n",
    "- **License:** MIT (Free commercial and personal use)\n",
    "- **Classes:** 2 (license-plate, vehicle)"
   ]
  },
  {
   "cell_type": "code",
   "execution_count": 4,
   "metadata": {},
   "outputs": [
    {
     "name": "stdout",
     "output_type": "stream",
     "text": [
      "📥 Dataset not found, downloading...\n",
      "✅ API key loaded from .env file\n",
      "You are already logged into Roboflow. To make a different login,run roboflow.login(force=True).\n",
      "loading Roboflow workspace...\n",
      "loading Roboflow project...\n"
     ]
    },
    {
     "name": "stderr",
     "output_type": "stream",
     "text": [
      "Downloading Dataset Version Zip in ../dataset/plat-kendaraan/ to yolov8:: 100%|██████████| 338253/338253 [01:55<00:00, 2919.65it/s]"
     ]
    },
    {
     "name": "stdout",
     "output_type": "stream",
     "text": [
      "\n"
     ]
    },
    {
     "name": "stderr",
     "output_type": "stream",
     "text": [
      "\n",
      "Extracting Dataset Version Zip to ../dataset/plat-kendaraan/ in yolov8:: 100%|██████████| 11118/11118 [00:06<00:00, 1593.86it/s]\n"
     ]
    },
    {
     "name": "stdout",
     "output_type": "stream",
     "text": [
      "✅ Dataset downloaded to: c:\\Users\\Rafael Jonathan\\Desktop\\dataset\\plat-kendaraan\n",
      "✅ Download verification successful\n"
     ]
    }
   ],
   "source": [
    "import roboflow\n",
    "from pathlib import Path\n",
    "import os\n",
    "from dotenv import load_dotenv\n",
    "load_dotenv(Path(\"../.env\"))\n",
    "dataset_path = Path(\"../dataset/plat-kendaraan\")\n",
    "\n",
    "if dataset_path.exists() and (dataset_path / \"data.yaml\").exists():\n",
    "    print(\"✅ Dataset already exists, skipping download\")\n",
    "    print(f\"📁 Dataset location: {dataset_path.absolute()}\")\n",
    "    \n",
    "    yaml_file = dataset_path / \"data.yaml\"\n",
    "    if yaml_file.exists():\n",
    "        print(\"✅ Configuration file found\")\n",
    "        \n",
    "        # Check splits\n",
    "        splits = ['train', 'valid', 'test']\n",
    "        total_images = 0\n",
    "        \n",
    "        for split in splits:\n",
    "            images_dir = dataset_path / split / 'images'\n",
    "            labels_dir = dataset_path / split / 'labels'\n",
    "            \n",
    "            if images_dir.exists():\n",
    "                image_count = len(list(images_dir.glob('*.jpg'))) + len(list(images_dir.glob('*.png')))\n",
    "                label_count = len(list(labels_dir.glob('*.txt'))) if labels_dir.exists() else 0\n",
    "                total_images += image_count\n",
    "                print(f\"  {split.upper()}: {image_count} images, {label_count} labels\")\n",
    "        \n",
    "        print(f\"✅ Total dataset: {total_images} images ready for training\")\n",
    "    else:\n",
    "        print(\"⚠️  Configuration file missing, dataset may be incomplete\")\n",
    "        \n",
    "else:\n",
    "    print(\"📥 Dataset not found, downloading...\")\n",
    "    roboflow_api_key = os.getenv(\"ROBOFLOW_API_KEY\")\n",
    "    \n",
    "    if not roboflow_api_key:\n",
    "        print(\"❌ ROBOFLOW_API_KEY not found in .env file\")\n",
    "        print(\"Please add ROBOFLOW_API_KEY=your_api_key_here to your .env file\")\n",
    "    else:\n",
    "        print(\"✅ API key loaded from .env file\")\n",
    "        \n",
    "        roboflow.login()\n",
    "        rf = roboflow.Roboflow(api_key=roboflow_api_key)\n",
    "        project = rf.workspace(\"plat-kendaraan\").project(\"vehicle-and-license-plate\")\n",
    "        dataset = project.version(1).download(\"yolov8\", location=\"../dataset/plat-kendaraan/\")\n",
    "        \n",
    "        print(f\"✅ Dataset downloaded to: {dataset.location}\")\n",
    "        \n",
    "        if (dataset_path / \"data.yaml\").exists():\n",
    "            print(\"✅ Download verification successful\")\n",
    "        else:\n",
    "            print(\"⚠️  Download verification failed - please check dataset\")"
   ]
  },
  {
   "cell_type": "markdown",
   "metadata": {},
   "source": [
    "## 5. Alternative: Manual Dataset Download\n",
    "\n",
    "If you prefer to download manually:"
   ]
  },
  {
   "cell_type": "code",
   "execution_count": 5,
   "metadata": {},
   "outputs": [],
   "source": [
    "# # Alternative datasets to consider:\n",
    "# datasets_info = {\n",
    "#     \"Plat Kendaraan (Current Choice)\": {\n",
    "#         \"url\": \"https://universe.roboflow.com/plat-kendaraan/vehicle-and-license-plate\",\n",
    "#         \"images\": 2167,\n",
    "#         \"license\": \"MIT\",\n",
    "#         \"format\": \"YOLO\"\n",
    "#     },\n",
    "#     \"KSP WORKSPACE (Alternative)\": {\n",
    "#         \"url\": \"https://universe.roboflow.com/ksp-workspace/indonesia-license-plate-iqrtj/dataset/2\",\n",
    "#         \"images\": 1607,\n",
    "#         \"license\": \"CC BY 4.0\",\n",
    "#         \"format\": \"YOLO\"\n",
    "#     },\n",
    "#     \"Kaggle Indonesian LP\": {\n",
    "#         \"url\": \"https://www.kaggle.com/datasets/juanthomaswijaya/indonesian-license-plate-dataset\",\n",
    "#         \"images\": 1000,\n",
    "#         \"license\": \"Kaggle\",\n",
    "#         \"format\": \"YOLO\"\n",
    "#     }\n",
    "# }\n",
    "\n",
    "# print(\"Available Indonesian License Plate Datasets:\")\n",
    "# print(\"=\" * 50)\n",
    "# for name, info in datasets_info.items():\n",
    "#     print(f\"\\n{name}:\")\n",
    "#     print(f\"  URL: {info['url']}\")\n",
    "#     print(f\"  Images: {info['images']}\")\n",
    "#     print(f\"  License: {info['license']}\")\n",
    "#     print(f\"  Format: {info['format']}\")"
   ]
  },
  {
   "cell_type": "markdown",
   "metadata": {},
   "source": [
    "## 6. Dataset Verification (Run after download)"
   ]
  },
  {
   "cell_type": "code",
   "execution_count": 6,
   "metadata": {},
   "outputs": [
    {
     "name": "stdout",
     "output_type": "stream",
     "text": [
      "✅ Dataset found at: c:\\Users\\Rafael Jonathan\\Desktop\\license-plate-training\\..\\dataset\\plat-kendaraan\n",
      "\n",
      "Dataset directory structure:\n",
      "  📄 data.yaml\n",
      "  📄 README.dataset.txt\n",
      "  📄 README.roboflow.txt\n",
      "  📁 test/ (42 files)\n",
      "  📁 train/ (10200 files)\n",
      "  📁 valid/ (864 files)\n",
      "\n",
      "🎯 Dataset ready for data exploration!\n"
     ]
    }
   ],
   "source": [
    "# Check if dataset was downloaded\n",
    "dataset_path = Path(\"../dataset/plat-kendaraan\")\n",
    "\n",
    "if dataset_path.exists():\n",
    "    print(f\"✅ Dataset found at: {dataset_path.absolute()}\")\n",
    "    print(\"\\nDataset directory structure:\")\n",
    "    \n",
    "    # Show main files and directories\n",
    "    for item in sorted(dataset_path.iterdir()):\n",
    "        if item.is_dir():\n",
    "            # Count files in subdirectories\n",
    "            file_count = len(list(item.rglob(\"*.*\")))\n",
    "            print(f\"  📁 {item.name}/ ({file_count} files)\")\n",
    "        else:\n",
    "            print(f\"  📄 {item.name}\")\n",
    "    \n",
    "    print(f\"\\n🎯 Dataset ready for data exploration!\")\n",
    "else:\n",
    "    print(\"❌ Dataset not found. Please run the download section first.\")"
   ]
  },
  {
   "cell_type": "code",
   "execution_count": 7,
   "metadata": {},
   "outputs": [
    {
     "name": "stdout",
     "output_type": "stream",
     "text": [
      "Dataset Analysis:\n",
      "========================================\n",
      "TRAIN:\n",
      "  Images: 5100\n",
      "  Labels: 5100\n",
      "  Match: ✅\n",
      "VALID:\n",
      "  Images: 432\n",
      "  Labels: 432\n",
      "  Match: ✅\n",
      "TEST:\n",
      "  Images: 21\n",
      "  Labels: 21\n",
      "  Match: ✅\n",
      "\n",
      "TOTAL:\n",
      "  Images: 5553\n",
      "  Labels: 5553\n",
      "  Overall Match: ✅\n",
      "\n",
      "✅ YAML config found: ..\\dataset\\plat-kendaraan\\data.yaml\n",
      "YAML contents:\n",
      "  names: ['License_Plate']\n",
      "  nc: 1\n",
      "  roboflow: {'license': 'MIT', 'project': 'vehicle-and-license-plate', 'url': 'https://universe.roboflow.com/plat-kendaraan/vehicle-and-license-plate/dataset/1', 'version': 1, 'workspace': 'plat-kendaraan'}\n",
      "  test: ../test/images\n",
      "  train: ../train/images\n",
      "  val: ../valid/images\n"
     ]
    }
   ],
   "source": [
    "# Basic dataset statistics (run after download)\n",
    "def analyze_dataset(dataset_root):\n",
    "    dataset_root = Path(dataset_root)\n",
    "    \n",
    "    if not dataset_root.exists():\n",
    "        print(f\"Dataset path {dataset_root} does not exist\")\n",
    "        return\n",
    "    \n",
    "    splits = ['train', 'valid', 'test']\n",
    "    total_images = 0\n",
    "    total_labels = 0\n",
    "    \n",
    "    print(\"Dataset Analysis:\")\n",
    "    print(\"=\" * 40)\n",
    "    \n",
    "    for split in splits:\n",
    "        images_dir = dataset_root / split / 'images'\n",
    "        labels_dir = dataset_root / split / 'labels'\n",
    "        \n",
    "        if images_dir.exists():\n",
    "            image_files = list(images_dir.glob('*.jpg')) + list(images_dir.glob('*.png'))\n",
    "            label_files = list(labels_dir.glob('*.txt')) if labels_dir.exists() else []\n",
    "            \n",
    "            print(f\"{split.upper()}:\")\n",
    "            print(f\"  Images: {len(image_files)}\")\n",
    "            print(f\"  Labels: {len(label_files)}\")\n",
    "            print(f\"  Match: {'✅' if len(image_files) == len(label_files) else '⚠️'}\")\n",
    "            \n",
    "            total_images += len(image_files)\n",
    "            total_labels += len(label_files)\n",
    "    \n",
    "    print(f\"\\nTOTAL:\")\n",
    "    print(f\"  Images: {total_images}\")\n",
    "    print(f\"  Labels: {total_labels}\")\n",
    "    print(f\"  Overall Match: {'✅' if total_images == total_labels else '⚠️'}\")\n",
    "    \n",
    "    # Check for data.yaml\n",
    "    yaml_file = dataset_root / 'data.yaml'\n",
    "    if yaml_file.exists():\n",
    "        print(f\"\\n✅ YAML config found: {yaml_file}\")\n",
    "        try:\n",
    "            import yaml\n",
    "            with open(yaml_file, 'r') as f:\n",
    "                config = yaml.safe_load(f)\n",
    "            print(\"YAML contents:\")\n",
    "            for key, value in config.items():\n",
    "                print(f\"  {key}: {value}\")\n",
    "        except Exception as e:\n",
    "            print(f\"⚠️  Could not read YAML: {e}\")\n",
    "    else:\n",
    "        print(f\"\\n❌ YAML config not found\")\n",
    "\n",
    "# Run analysis with correct path\n",
    "analyze_dataset(\"../dataset/plat-kendaraan\")"
   ]
  },
  {
   "cell_type": "markdown",
   "metadata": {},
   "source": [
    "## 7. Test YOLOv8 Installation"
   ]
  },
  {
   "cell_type": "code",
   "execution_count": 8,
   "metadata": {},
   "outputs": [
    {
     "name": "stdout",
     "output_type": "stream",
     "text": [
      "Testing YOLOv8 installation...\n",
      "✓ YOLOv8 model loaded successfully\n",
      "✓ Model type: <class 'ultralytics.models.yolo.model.YOLO'>\n",
      "✓ Model device: cpu\n",
      "YOLOv8n summary: 129 layers, 3,157,200 parameters, 0 gradients, 8.9 GFLOPs\n"
     ]
    }
   ],
   "source": [
    "from ultralytics import YOLO\n",
    "\n",
    "# Test YOLO model loading\n",
    "print(\"Testing YOLOv8 installation...\")\n",
    "try:\n",
    "    # Load a pretrained YOLOv8 nano model\n",
    "    model = YOLO('yolov8n.pt')\n",
    "    print(\"✓ YOLOv8 model loaded successfully\")\n",
    "    print(f\"✓ Model type: {type(model)}\")\n",
    "    print(f\"✓ Model device: {model.device}\")\n",
    "    \n",
    "    # Test model info\n",
    "    model.info()\n",
    "    \n",
    "except Exception as e:\n",
    "    print(f\"✗ Error loading YOLOv8: {e}\")"
   ]
  },
  {
   "cell_type": "markdown",
   "metadata": {},
   "source": [
    "## 8. Setup Summary"
   ]
  },
  {
   "cell_type": "code",
   "execution_count": 9,
   "metadata": {},
   "outputs": [
    {
     "name": "stdout",
     "output_type": "stream",
     "text": [
      "Setup Summary Report:\n",
      "==============================\n",
      "Timestamp: 2025-08-06 21:16:09\n",
      "Python Version: 3.13.2\n",
      "Pytorch Version: 2.7.1+cpu\n",
      "Ultralytics Version: 8.3.173\n",
      "Cuda Available: False\n",
      "Gpu Count: 0\n",
      "Device: CPU\n",
      "\n",
      "Report saved to: ..\\results\\reports\\setup_report.json\n"
     ]
    }
   ],
   "source": [
    "# Generate setup report\n",
    "report = {\n",
    "    \"timestamp\": datetime.now().strftime(\"%Y-%m-%d %H:%M:%S\"),\n",
    "    \"python_version\": sys.version.split()[0],\n",
    "    \"pytorch_version\": torch.__version__,\n",
    "    \"ultralytics_version\": ultralytics.__version__,\n",
    "    \"cuda_available\": torch.cuda.is_available(),\n",
    "    \"gpu_count\": torch.cuda.device_count() if torch.cuda.is_available() else 0,\n",
    "    \"device\": \"GPU\" if torch.cuda.is_available() else \"CPU\"\n",
    "}\n",
    "\n",
    "print(\"Setup Summary Report:\")\n",
    "print(\"=\" * 30)\n",
    "for key, value in report.items():\n",
    "    print(f\"{key.replace('_', ' ').title()}: {value}\")\n",
    "\n",
    "# Save report\n",
    "import json\n",
    "report_path = Path(\"../results/reports/setup_report.json\")\n",
    "report_path.parent.mkdir(parents=True, exist_ok=True)\n",
    "\n",
    "with open(report_path, 'w') as f:\n",
    "    json.dump(report, f, indent=2)\n",
    "\n",
    "print(f\"\\nReport saved to: {report_path}\")"
   ]
  },
  {
   "cell_type": "markdown",
   "metadata": {},
   "source": [
    "## Next Steps\n",
    "\n",
    "After completing this notebook:\n",
    "\n",
    "1. **If dataset download successful:** Proceed to `02_data_exploration.ipynb`\n",
    "2. **If dataset download failed:** \n",
    "   - Get Roboflow API key and retry download\n",
    "   - Or manually download from Kaggle/other sources\n",
    "   - Update dataset paths accordingly\n",
    "\n",
    "3. **If GPU not available:**\n",
    "   - Training will be slower but still possible\n",
    "   - Consider reducing batch size and model complexity\n",
    "   - Or install CUDA-enabled PyTorch version\n",
    "\n",
    "4. **Production Integration:**\n",
    "   - Remember target output format for production compatibility\n",
    "   - Model will be saved as `best_model.pt` for transfer\n",
    "   - Final model path: `license-plate/cached_models/yolov8_indonesian_plates.pt`"
   ]
  }
 ],
 "metadata": {
  "kernelspec": {
   "display_name": "venv",
   "language": "python",
   "name": "python3"
  },
  "language_info": {
   "codemirror_mode": {
    "name": "ipython",
    "version": 3
   },
   "file_extension": ".py",
   "mimetype": "text/x-python",
   "name": "python",
   "nbconvert_exporter": "python",
   "pygments_lexer": "ipython3",
   "version": "3.13.2"
  }
 },
 "nbformat": 4,
 "nbformat_minor": 4
}
