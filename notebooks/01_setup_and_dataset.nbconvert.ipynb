{
 "cells": [
  {
   "cell_type": "markdown",
   "metadata": {},
   "source": [
    "# License Plate Training Setup and Dataset\n",
    "\n",
    "This notebook handles environment verification and Indonesian license plate dataset acquisition for YOLOv8 training.\n",
    "\n",
    "## Tasks:\n",
    "- [x] Verify GPU availability\n",
    "- [ ] Check CUDA version compatibility\n",
    "- [ ] Download Indonesian license plate datasets\n",
    "- [ ] Verify dataset integrity\n",
    "- [ ] Initial dataset statistics"
   ]
  },
  {
   "cell_type": "markdown",
   "metadata": {},
   "source": [
    "## 1. Environment Verification"
   ]
  },
  {
   "cell_type": "code",
   "execution_count": 1,
   "metadata": {
    "execution": {
     "iopub.execute_input": "2025-08-07T04:02:18.726931Z",
     "iopub.status.busy": "2025-08-07T04:02:18.726816Z",
     "iopub.status.idle": "2025-08-07T04:02:21.497773Z",
     "shell.execute_reply": "2025-08-07T04:02:21.497413Z"
    }
   },
   "outputs": [
    {
     "name": "stdout",
     "output_type": "stream",
     "text": [
      "Requirement already satisfied: seaborn in /home/ciheul/license-plate-rafael-jonathan/license-plate-training/venv/lib/python3.10/site-packages (0.13.2)\r\n",
      "Requirement already satisfied: numpy!=1.24.0,>=1.20 in /home/ciheul/license-plate-rafael-jonathan/license-plate-training/venv/lib/python3.10/site-packages (from seaborn) (2.2.6)\r\n",
      "Requirement already satisfied: pandas>=1.2 in /home/ciheul/license-plate-rafael-jonathan/license-plate-training/venv/lib/python3.10/site-packages (from seaborn) (2.3.1)\r\n",
      "Requirement already satisfied: matplotlib!=3.6.1,>=3.4 in /home/ciheul/license-plate-rafael-jonathan/license-plate-training/venv/lib/python3.10/site-packages (from seaborn) (3.10.5)\r\n",
      "Requirement already satisfied: contourpy>=1.0.1 in /home/ciheul/license-plate-rafael-jonathan/license-plate-training/venv/lib/python3.10/site-packages (from matplotlib!=3.6.1,>=3.4->seaborn) (1.3.2)\r\n",
      "Requirement already satisfied: cycler>=0.10 in /home/ciheul/license-plate-rafael-jonathan/license-plate-training/venv/lib/python3.10/site-packages (from matplotlib!=3.6.1,>=3.4->seaborn) (0.12.1)\r\n",
      "Requirement already satisfied: fonttools>=4.22.0 in /home/ciheul/license-plate-rafael-jonathan/license-plate-training/venv/lib/python3.10/site-packages (from matplotlib!=3.6.1,>=3.4->seaborn) (4.59.0)\r\n",
      "Requirement already satisfied: kiwisolver>=1.3.1 in /home/ciheul/license-plate-rafael-jonathan/license-plate-training/venv/lib/python3.10/site-packages (from matplotlib!=3.6.1,>=3.4->seaborn) (1.4.8)\r\n",
      "Requirement already satisfied: packaging>=20.0 in /home/ciheul/license-plate-rafael-jonathan/license-plate-training/venv/lib/python3.10/site-packages (from matplotlib!=3.6.1,>=3.4->seaborn) (25.0)\r\n",
      "Requirement already satisfied: pillow>=8 in /home/ciheul/license-plate-rafael-jonathan/license-plate-training/venv/lib/python3.10/site-packages (from matplotlib!=3.6.1,>=3.4->seaborn) (11.3.0)\r\n",
      "Requirement already satisfied: pyparsing>=2.3.1 in /home/ciheul/license-plate-rafael-jonathan/license-plate-training/venv/lib/python3.10/site-packages (from matplotlib!=3.6.1,>=3.4->seaborn) (3.2.3)\r\n",
      "Requirement already satisfied: python-dateutil>=2.7 in /home/ciheul/license-plate-rafael-jonathan/license-plate-training/venv/lib/python3.10/site-packages (from matplotlib!=3.6.1,>=3.4->seaborn) (2.9.0.post0)\r\n"
     ]
    },
    {
     "name": "stdout",
     "output_type": "stream",
     "text": [
      "Requirement already satisfied: pytz>=2020.1 in /home/ciheul/license-plate-rafael-jonathan/license-plate-training/venv/lib/python3.10/site-packages (from pandas>=1.2->seaborn) (2025.2)\r\n",
      "Requirement already satisfied: tzdata>=2022.7 in /home/ciheul/license-plate-rafael-jonathan/license-plate-training/venv/lib/python3.10/site-packages (from pandas>=1.2->seaborn) (2025.2)\r\n",
      "Requirement already satisfied: six>=1.5 in /home/ciheul/license-plate-rafael-jonathan/license-plate-training/venv/lib/python3.10/site-packages (from python-dateutil>=2.7->matplotlib!=3.6.1,>=3.4->seaborn) (1.17.0)\r\n"
     ]
    },
    {
     "name": "stdout",
     "output_type": "stream",
     "text": [
      "Note: you may need to restart the kernel to use updated packages.\n"
     ]
    },
    {
     "name": "stdout",
     "output_type": "stream",
     "text": [
      "Environment Check:\n",
      "Python version: 3.10.12 (main, May 27 2025, 17:12:29) [GCC 11.4.0]\n",
      "PyTorch version: 2.8.0+cu128\n",
      "Torchvision version: 0.23.0+cu128\n",
      "Ultralytics version: 8.3.175\n",
      "OpenCV version: 4.10.0\n",
      "NumPy version: 2.2.6\n",
      "Pandas version: 2.3.1\n"
     ]
    }
   ],
   "source": [
    "%pip install seaborn\n",
    "\n",
    "import sys\n",
    "import torch\n",
    "import torchvision\n",
    "import ultralytics\n",
    "import cv2\n",
    "import numpy as np\n",
    "import pandas as pd\n",
    "import matplotlib.pyplot as plt\n",
    "import seaborn as sns\n",
    "from pathlib import Path\n",
    "import os\n",
    "from datetime import datetime\n",
    "\n",
    "print(\"Environment Check:\")\n",
    "print(f\"Python version: {sys.version}\")\n",
    "print(f\"PyTorch version: {torch.__version__}\")\n",
    "print(f\"Torchvision version: {torchvision.__version__}\")\n",
    "print(f\"Ultralytics version: {ultralytics.__version__}\")\n",
    "print(f\"OpenCV version: {cv2.__version__}\")\n",
    "print(f\"NumPy version: {np.__version__}\")\n",
    "print(f\"Pandas version: {pd.__version__}\")"
   ]
  },
  {
   "cell_type": "code",
   "execution_count": 2,
   "metadata": {
    "execution": {
     "iopub.execute_input": "2025-08-07T04:02:21.499122Z",
     "iopub.status.busy": "2025-08-07T04:02:21.498940Z",
     "iopub.status.idle": "2025-08-07T04:02:21.549452Z",
     "shell.execute_reply": "2025-08-07T04:02:21.549070Z"
    }
   },
   "outputs": [
    {
     "name": "stdout",
     "output_type": "stream",
     "text": [
      "GPU/CUDA Information:\n",
      "CUDA available: True\n",
      "CUDA version: 12.8\n",
      "GPU count: 1\n",
      "GPU 0: NVIDIA GeForce RTX 4080 SUPER\n",
      "  Memory: 16.7 GB\n"
     ]
    }
   ],
   "source": [
    "# GPU and CUDA availability check\n",
    "print(\"GPU/CUDA Information:\")\n",
    "print(f\"CUDA available: {torch.cuda.is_available()}\")\n",
    "\n",
    "if torch.cuda.is_available():\n",
    "    print(f\"CUDA version: {torch.version.cuda}\")\n",
    "    print(f\"GPU count: {torch.cuda.device_count()}\")\n",
    "    for i in range(torch.cuda.device_count()):\n",
    "        print(f\"GPU {i}: {torch.cuda.get_device_name(i)}\")\n",
    "        print(f\"  Memory: {torch.cuda.get_device_properties(i).total_memory / 1e9:.1f} GB\")\n",
    "else:\n",
    "    print(\"CUDA version: N/A (CPU-only training)\")\n",
    "    print(\"Warning: Training will be significantly slower on CPU\")\n",
    "    print(\"Consider installing CUDA-enabled PyTorch for GPU acceleration\")"
   ]
  },
  {
   "cell_type": "markdown",
   "metadata": {},
   "source": [
    "## 2. Directory Structure Verification"
   ]
  },
  {
   "cell_type": "markdown",
   "metadata": {},
   "source": [
    "## 3. Install Additional Dependencies"
   ]
  },
  {
   "cell_type": "code",
   "execution_count": 3,
   "metadata": {
    "execution": {
     "iopub.execute_input": "2025-08-07T04:02:21.550892Z",
     "iopub.status.busy": "2025-08-07T04:02:21.550756Z",
     "iopub.status.idle": "2025-08-07T04:02:22.202176Z",
     "shell.execute_reply": "2025-08-07T04:02:22.201634Z"
    }
   },
   "outputs": [
    {
     "name": "stdout",
     "output_type": "stream",
     "text": [
      "Requirement already satisfied: roboflow in /home/ciheul/license-plate-rafael-jonathan/license-plate-training/venv/lib/python3.10/site-packages (1.2.3)\r\n",
      "Requirement already satisfied: python-dotenv in /home/ciheul/license-plate-rafael-jonathan/license-plate-training/venv/lib/python3.10/site-packages (1.1.1)\r\n",
      "Requirement already satisfied: certifi in /home/ciheul/license-plate-rafael-jonathan/license-plate-training/venv/lib/python3.10/site-packages (from roboflow) (2025.8.3)\r\n",
      "Requirement already satisfied: idna==3.7 in /home/ciheul/license-plate-rafael-jonathan/license-plate-training/venv/lib/python3.10/site-packages (from roboflow) (3.7)\r\n",
      "Requirement already satisfied: cycler in /home/ciheul/license-plate-rafael-jonathan/license-plate-training/venv/lib/python3.10/site-packages (from roboflow) (0.12.1)\r\n",
      "Requirement already satisfied: kiwisolver>=1.3.1 in /home/ciheul/license-plate-rafael-jonathan/license-plate-training/venv/lib/python3.10/site-packages (from roboflow) (1.4.8)\r\n",
      "Requirement already satisfied: matplotlib in /home/ciheul/license-plate-rafael-jonathan/license-plate-training/venv/lib/python3.10/site-packages (from roboflow) (3.10.5)\r\n",
      "Requirement already satisfied: numpy>=1.18.5 in /home/ciheul/license-plate-rafael-jonathan/license-plate-training/venv/lib/python3.10/site-packages (from roboflow) (2.2.6)\r\n",
      "Requirement already satisfied: opencv-python-headless==4.10.0.84 in /home/ciheul/license-plate-rafael-jonathan/license-plate-training/venv/lib/python3.10/site-packages (from roboflow) (4.10.0.84)\r\n",
      "Requirement already satisfied: Pillow>=7.1.2 in /home/ciheul/license-plate-rafael-jonathan/license-plate-training/venv/lib/python3.10/site-packages (from roboflow) (11.3.0)\r\n",
      "Requirement already satisfied: pi-heif<2 in /home/ciheul/license-plate-rafael-jonathan/license-plate-training/venv/lib/python3.10/site-packages (from roboflow) (1.1.0)\r\n",
      "Requirement already satisfied: pillow-avif-plugin<2 in /home/ciheul/license-plate-rafael-jonathan/license-plate-training/venv/lib/python3.10/site-packages (from roboflow) (1.5.2)\r\n",
      "Requirement already satisfied: python-dateutil in /home/ciheul/license-plate-rafael-jonathan/license-plate-training/venv/lib/python3.10/site-packages (from roboflow) (2.9.0.post0)\r\n",
      "Requirement already satisfied: requests in /home/ciheul/license-plate-rafael-jonathan/license-plate-training/venv/lib/python3.10/site-packages (from roboflow) (2.32.4)\r\n",
      "Requirement already satisfied: six in /home/ciheul/license-plate-rafael-jonathan/license-plate-training/venv/lib/python3.10/site-packages (from roboflow) (1.17.0)\r\n",
      "Requirement already satisfied: urllib3>=1.26.6 in /home/ciheul/license-plate-rafael-jonathan/license-plate-training/venv/lib/python3.10/site-packages (from roboflow) (2.5.0)\r\n",
      "Requirement already satisfied: tqdm>=4.41.0 in /home/ciheul/license-plate-rafael-jonathan/license-plate-training/venv/lib/python3.10/site-packages (from roboflow) (4.67.1)\r\n",
      "Requirement already satisfied: PyYAML>=5.3.1 in /home/ciheul/license-plate-rafael-jonathan/license-plate-training/venv/lib/python3.10/site-packages (from roboflow) (6.0.2)\r\n",
      "Requirement already satisfied: requests-toolbelt in /home/ciheul/license-plate-rafael-jonathan/license-plate-training/venv/lib/python3.10/site-packages (from roboflow) (1.0.0)\r\n",
      "Requirement already satisfied: filetype in /home/ciheul/license-plate-rafael-jonathan/license-plate-training/venv/lib/python3.10/site-packages (from roboflow) (1.2.0)\r\n"
     ]
    },
    {
     "name": "stdout",
     "output_type": "stream",
     "text": [
      "Requirement already satisfied: contourpy>=1.0.1 in /home/ciheul/license-plate-rafael-jonathan/license-plate-training/venv/lib/python3.10/site-packages (from matplotlib->roboflow) (1.3.2)\r\n",
      "Requirement already satisfied: fonttools>=4.22.0 in /home/ciheul/license-plate-rafael-jonathan/license-plate-training/venv/lib/python3.10/site-packages (from matplotlib->roboflow) (4.59.0)\r\n",
      "Requirement already satisfied: packaging>=20.0 in /home/ciheul/license-plate-rafael-jonathan/license-plate-training/venv/lib/python3.10/site-packages (from matplotlib->roboflow) (25.0)\r\n",
      "Requirement already satisfied: pyparsing>=2.3.1 in /home/ciheul/license-plate-rafael-jonathan/license-plate-training/venv/lib/python3.10/site-packages (from matplotlib->roboflow) (3.2.3)\r\n",
      "Requirement already satisfied: charset_normalizer<4,>=2 in /home/ciheul/license-plate-rafael-jonathan/license-plate-training/venv/lib/python3.10/site-packages (from requests->roboflow) (3.4.2)\r\n"
     ]
    }
   ],
   "source": [
    "# Install required packages for dataset download\n",
    "!pip install roboflow python-dotenv"
   ]
  },
  {
   "cell_type": "markdown",
   "metadata": {},
   "source": [
    "## 4. Dataset Download - Plat Kendaraan (Largest Indonesian License Plate Dataset)\n",
    "\n",
    "**Dataset Details:**\n",
    "- **Source:** Roboflow Universe - Plat Kendaraan\n",
    "- **Images:** 2,167 total (larger dataset for better training)\n",
    "- **Format:** YOLO TXT with YAML config\n",
    "- **License:** MIT (Free commercial and personal use)\n",
    "- **Classes:** 2 (license-plate, vehicle)"
   ]
  },
  {
   "cell_type": "code",
   "execution_count": 4,
   "metadata": {
    "execution": {
     "iopub.execute_input": "2025-08-07T04:02:22.204467Z",
     "iopub.status.busy": "2025-08-07T04:02:22.204251Z",
     "iopub.status.idle": "2025-08-07T04:03:09.326670Z",
     "shell.execute_reply": "2025-08-07T04:03:09.326283Z"
    }
   },
   "outputs": [
    {
     "name": "stdout",
     "output_type": "stream",
     "text": [
      "📥 Dataset not found, downloading...\n",
      "✅ API key loaded from .env file\n",
      "\r",
      "You are already logged into Roboflow. To make a different login,run roboflow.login(force=True).\n"
     ]
    },
    {
     "name": "stdout",
     "output_type": "stream",
     "text": [
      "\r",
      "loading Roboflow workspace...\n"
     ]
    },
    {
     "name": "stdout",
     "output_type": "stream",
     "text": [
      "\r",
      "loading Roboflow project...\n"
     ]
    },
    {
     "name": "stderr",
     "output_type": "stream",
     "text": [
      "\r",
      "Downloading Dataset Version Zip in ../dataset/plat-kendaraan/ to yolov8::   0%|                                          | 0/338253 [00:00<?, ?it/s]"
     ]
    },
    {
     "name": "stderr",
     "output_type": "stream",
     "text": [
      "\r",
      "Downloading Dataset Version Zip in ../dataset/plat-kendaraan/ to yolov8::   0%|                               | 15/338253 [00:00<1:14:17, 75.88it/s]"
     ]
    },
    {
     "name": "stderr",
     "output_type": "stream",
     "text": [
      "\r",
      "Downloading Dataset Version Zip in ../dataset/plat-kendaraan/ to yolov8::   0%|                                | 47/338253 [00:00<53:20, 105.67it/s]"
     ]
    },
    {
     "name": "stderr",
     "output_type": "stream",
     "text": [
      "\r",
      "Downloading Dataset Version Zip in ../dataset/plat-kendaraan/ to yolov8::   0%|                                | 79/338253 [00:00<49:46, 113.23it/s]"
     ]
    },
    {
     "name": "stderr",
     "output_type": "stream",
     "text": [
      "\r",
      "Downloading Dataset Version Zip in ../dataset/plat-kendaraan/ to yolov8::   0%|                               | 127/338253 [00:00<31:37, 178.21it/s]"
     ]
    },
    {
     "name": "stderr",
     "output_type": "stream",
     "text": [
      "\r",
      "Downloading Dataset Version Zip in ../dataset/plat-kendaraan/ to yolov8::   0%|                               | 159/338253 [00:00<27:04, 208.18it/s]"
     ]
    },
    {
     "name": "stderr",
     "output_type": "stream",
     "text": [
      "\r",
      "Downloading Dataset Version Zip in ../dataset/plat-kendaraan/ to yolov8::   0%|                               | 207/338253 [00:01<21:13, 265.35it/s]"
     ]
    },
    {
     "name": "stderr",
     "output_type": "stream",
     "text": [
      "\r",
      "Downloading Dataset Version Zip in ../dataset/plat-kendaraan/ to yolov8::   0%|                               | 271/338253 [00:01<15:50, 355.49it/s]"
     ]
    },
    {
     "name": "stderr",
     "output_type": "stream",
     "text": [
      "\r",
      "Downloading Dataset Version Zip in ../dataset/plat-kendaraan/ to yolov8::   0%|                               | 367/338253 [00:01<11:05, 507.78it/s]"
     ]
    },
    {
     "name": "stderr",
     "output_type": "stream",
     "text": [
      "\r",
      "Downloading Dataset Version Zip in ../dataset/plat-kendaraan/ to yolov8::   0%|                               | 463/338253 [00:01<08:58, 627.07it/s]"
     ]
    },
    {
     "name": "stderr",
     "output_type": "stream",
     "text": [
      "\r",
      "Downloading Dataset Version Zip in ../dataset/plat-kendaraan/ to yolov8::   0%|                               | 623/338253 [00:01<06:17, 895.11it/s]"
     ]
    },
    {
     "name": "stderr",
     "output_type": "stream",
     "text": [
      "\r",
      "Downloading Dataset Version Zip in ../dataset/plat-kendaraan/ to yolov8::   0%|                              | 847/338253 [00:01<04:29, 1251.66it/s]"
     ]
    },
    {
     "name": "stderr",
     "output_type": "stream",
     "text": [
      "\r",
      "Downloading Dataset Version Zip in ../dataset/plat-kendaraan/ to yolov8::   0%|                             | 1119/338253 [00:01<03:23, 1660.22it/s]"
     ]
    },
    {
     "name": "stderr",
     "output_type": "stream",
     "text": [
      "\r",
      "Downloading Dataset Version Zip in ../dataset/plat-kendaraan/ to yolov8::   0%|▏                            | 1503/338253 [00:01<02:27, 2283.24it/s]"
     ]
    },
    {
     "name": "stderr",
     "output_type": "stream",
     "text": [
      "\r",
      "Downloading Dataset Version Zip in ../dataset/plat-kendaraan/ to yolov8::   1%|▏                            | 2049/338253 [00:01<01:45, 3191.03it/s]"
     ]
    },
    {
     "name": "stderr",
     "output_type": "stream",
     "text": [
      "\r",
      "Downloading Dataset Version Zip in ../dataset/plat-kendaraan/ to yolov8::   1%|▏                            | 2753/338253 [00:01<01:18, 4297.91it/s]"
     ]
    },
    {
     "name": "stderr",
     "output_type": "stream",
     "text": [
      "\r",
      "Downloading Dataset Version Zip in ../dataset/plat-kendaraan/ to yolov8::   1%|▎                            | 3713/338253 [00:02<00:57, 5825.90it/s]"
     ]
    },
    {
     "name": "stderr",
     "output_type": "stream",
     "text": [
      "\r",
      "Downloading Dataset Version Zip in ../dataset/plat-kendaraan/ to yolov8::   1%|▍                            | 4718/338253 [00:02<00:47, 7007.24it/s]"
     ]
    },
    {
     "name": "stderr",
     "output_type": "stream",
     "text": [
      "\r",
      "Downloading Dataset Version Zip in ../dataset/plat-kendaraan/ to yolov8::   2%|▍                            | 5614/338253 [00:02<00:43, 7571.23it/s]"
     ]
    },
    {
     "name": "stderr",
     "output_type": "stream",
     "text": [
      "\r",
      "Downloading Dataset Version Zip in ../dataset/plat-kendaraan/ to yolov8::   2%|▌                            | 6528/338253 [00:02<00:41, 8023.62it/s]"
     ]
    },
    {
     "name": "stderr",
     "output_type": "stream",
     "text": [
      "\r",
      "Downloading Dataset Version Zip in ../dataset/plat-kendaraan/ to yolov8::   2%|▋                            | 7536/338253 [00:02<00:38, 8591.96it/s]"
     ]
    },
    {
     "name": "stderr",
     "output_type": "stream",
     "text": [
      "\r",
      "Downloading Dataset Version Zip in ../dataset/plat-kendaraan/ to yolov8::   2%|▋                            | 8448/338253 [00:02<00:38, 8577.60it/s]"
     ]
    },
    {
     "name": "stderr",
     "output_type": "stream",
     "text": [
      "\r",
      "Downloading Dataset Version Zip in ../dataset/plat-kendaraan/ to yolov8::   3%|▊                            | 9424/338253 [00:02<00:36, 8911.24it/s]"
     ]
    },
    {
     "name": "stderr",
     "output_type": "stream",
     "text": [
      "\r",
      "Downloading Dataset Version Zip in ../dataset/plat-kendaraan/ to yolov8::   3%|▊                           | 10318/338253 [00:02<00:39, 8399.99it/s]"
     ]
    },
    {
     "name": "stderr",
     "output_type": "stream",
     "text": [
      "\r",
      "Downloading Dataset Version Zip in ../dataset/plat-kendaraan/ to yolov8::   3%|▉                           | 11232/338253 [00:02<00:38, 8565.16it/s]"
     ]
    },
    {
     "name": "stderr",
     "output_type": "stream",
     "text": [
      "\r",
      "Downloading Dataset Version Zip in ../dataset/plat-kendaraan/ to yolov8::   4%|█                           | 12160/338253 [00:03<00:37, 8741.14it/s]"
     ]
    },
    {
     "name": "stderr",
     "output_type": "stream",
     "text": [
      "\r",
      "Downloading Dataset Version Zip in ../dataset/plat-kendaraan/ to yolov8::   4%|█                           | 13088/338253 [00:03<00:36, 8841.68it/s]"
     ]
    },
    {
     "name": "stderr",
     "output_type": "stream",
     "text": [
      "\r",
      "Downloading Dataset Version Zip in ../dataset/plat-kendaraan/ to yolov8::   4%|█▏                          | 14016/338253 [00:03<00:36, 8933.59it/s]"
     ]
    },
    {
     "name": "stderr",
     "output_type": "stream",
     "text": [
      "\r",
      "Downloading Dataset Version Zip in ../dataset/plat-kendaraan/ to yolov8::   4%|█▏                          | 14912/338253 [00:03<00:37, 8736.28it/s]"
     ]
    },
    {
     "name": "stderr",
     "output_type": "stream",
     "text": [
      "\r",
      "Downloading Dataset Version Zip in ../dataset/plat-kendaraan/ to yolov8::   5%|█▎                          | 15872/338253 [00:03<00:35, 8964.35it/s]"
     ]
    },
    {
     "name": "stderr",
     "output_type": "stream",
     "text": [
      "\r",
      "Downloading Dataset Version Zip in ../dataset/plat-kendaraan/ to yolov8::   5%|█▍                          | 16771/338253 [00:03<00:38, 8454.10it/s]"
     ]
    },
    {
     "name": "stderr",
     "output_type": "stream",
     "text": [
      "\r",
      "Downloading Dataset Version Zip in ../dataset/plat-kendaraan/ to yolov8::   5%|█▍                          | 17744/338253 [00:03<00:36, 8796.16it/s]"
     ]
    },
    {
     "name": "stderr",
     "output_type": "stream",
     "text": [
      "\r",
      "Downloading Dataset Version Zip in ../dataset/plat-kendaraan/ to yolov8::   6%|█▌                          | 18736/338253 [00:03<00:35, 9066.81it/s]"
     ]
    },
    {
     "name": "stderr",
     "output_type": "stream",
     "text": [
      "\r",
      "Downloading Dataset Version Zip in ../dataset/plat-kendaraan/ to yolov8::   6%|█▋                          | 19649/338253 [00:03<00:35, 9053.81it/s]"
     ]
    },
    {
     "name": "stderr",
     "output_type": "stream",
     "text": [
      "\r",
      "Downloading Dataset Version Zip in ../dataset/plat-kendaraan/ to yolov8::   6%|█▋                          | 20559/338253 [00:03<00:35, 9028.79it/s]"
     ]
    },
    {
     "name": "stderr",
     "output_type": "stream",
     "text": [
      "\r",
      "Downloading Dataset Version Zip in ../dataset/plat-kendaraan/ to yolov8::   6%|█▊                          | 21465/338253 [00:04<00:35, 9022.01it/s]"
     ]
    },
    {
     "name": "stderr",
     "output_type": "stream",
     "text": [
      "\r",
      "Downloading Dataset Version Zip in ../dataset/plat-kendaraan/ to yolov8::   7%|█▊                          | 22369/338253 [00:04<00:35, 9013.66it/s]"
     ]
    },
    {
     "name": "stderr",
     "output_type": "stream",
     "text": [
      "\r",
      "Downloading Dataset Version Zip in ../dataset/plat-kendaraan/ to yolov8::   7%|█▉                          | 23280/338253 [00:04<00:34, 9002.96it/s]"
     ]
    },
    {
     "name": "stderr",
     "output_type": "stream",
     "text": [
      "\r",
      "Downloading Dataset Version Zip in ../dataset/plat-kendaraan/ to yolov8::   7%|██                          | 24182/338253 [00:04<00:43, 7215.07it/s]"
     ]
    },
    {
     "name": "stderr",
     "output_type": "stream",
     "text": [
      "\r",
      "Downloading Dataset Version Zip in ../dataset/plat-kendaraan/ to yolov8::   7%|██                          | 24961/338253 [00:04<00:43, 7273.47it/s]"
     ]
    },
    {
     "name": "stderr",
     "output_type": "stream",
     "text": [
      "\r",
      "Downloading Dataset Version Zip in ../dataset/plat-kendaraan/ to yolov8::   8%|██▏                         | 26032/338253 [00:04<00:38, 8175.85it/s]"
     ]
    },
    {
     "name": "stderr",
     "output_type": "stream",
     "text": [
      "\r",
      "Downloading Dataset Version Zip in ../dataset/plat-kendaraan/ to yolov8::   8%|██▏                         | 26944/338253 [00:04<00:37, 8403.29it/s]"
     ]
    },
    {
     "name": "stderr",
     "output_type": "stream",
     "text": [
      "\r",
      "Downloading Dataset Version Zip in ../dataset/plat-kendaraan/ to yolov8::   8%|██▎                         | 27856/338253 [00:04<00:36, 8578.29it/s]"
     ]
    },
    {
     "name": "stderr",
     "output_type": "stream",
     "text": [
      "\r",
      "Downloading Dataset Version Zip in ../dataset/plat-kendaraan/ to yolov8::   9%|██▍                         | 28784/338253 [00:04<00:35, 8772.79it/s]"
     ]
    },
    {
     "name": "stderr",
     "output_type": "stream",
     "text": [
      "\r",
      "Downloading Dataset Version Zip in ../dataset/plat-kendaraan/ to yolov8::   9%|██▍                         | 29696/338253 [00:05<00:34, 8822.66it/s]"
     ]
    },
    {
     "name": "stderr",
     "output_type": "stream",
     "text": [
      "\r",
      "Downloading Dataset Version Zip in ../dataset/plat-kendaraan/ to yolov8::   9%|██▌                         | 30624/338253 [00:05<00:34, 8908.42it/s]"
     ]
    },
    {
     "name": "stderr",
     "output_type": "stream",
     "text": [
      "\r",
      "Downloading Dataset Version Zip in ../dataset/plat-kendaraan/ to yolov8::   9%|██▌                         | 31552/338253 [00:05<00:34, 8974.04it/s]"
     ]
    },
    {
     "name": "stderr",
     "output_type": "stream",
     "text": [
      "\r",
      "Downloading Dataset Version Zip in ../dataset/plat-kendaraan/ to yolov8::  10%|██▋                         | 32464/338253 [00:05<00:34, 8992.43it/s]"
     ]
    },
    {
     "name": "stderr",
     "output_type": "stream",
     "text": [
      "\r",
      "Downloading Dataset Version Zip in ../dataset/plat-kendaraan/ to yolov8::  10%|██▊                         | 33368/338253 [00:05<00:34, 8928.28it/s]"
     ]
    },
    {
     "name": "stderr",
     "output_type": "stream",
     "text": [
      "\r",
      "Downloading Dataset Version Zip in ../dataset/plat-kendaraan/ to yolov8::  10%|██▊                         | 34320/338253 [00:05<00:33, 9063.67it/s]"
     ]
    },
    {
     "name": "stderr",
     "output_type": "stream",
     "text": [
      "\r",
      "Downloading Dataset Version Zip in ../dataset/plat-kendaraan/ to yolov8::  10%|██▉                         | 35248/338253 [00:05<00:33, 9084.79it/s]"
     ]
    },
    {
     "name": "stderr",
     "output_type": "stream",
     "text": [
      "\r",
      "Downloading Dataset Version Zip in ../dataset/plat-kendaraan/ to yolov8::  11%|██▉                         | 36159/338253 [00:05<00:33, 8997.97it/s]"
     ]
    },
    {
     "name": "stderr",
     "output_type": "stream",
     "text": [
      "\r",
      "Downloading Dataset Version Zip in ../dataset/plat-kendaraan/ to yolov8::  11%|███                         | 37104/338253 [00:05<00:33, 9102.89it/s]"
     ]
    },
    {
     "name": "stderr",
     "output_type": "stream",
     "text": [
      "\r",
      "Downloading Dataset Version Zip in ../dataset/plat-kendaraan/ to yolov8::  11%|███▏                        | 38032/338253 [00:05<00:32, 9118.77it/s]"
     ]
    },
    {
     "name": "stderr",
     "output_type": "stream",
     "text": [
      "\r",
      "Downloading Dataset Version Zip in ../dataset/plat-kendaraan/ to yolov8::  12%|███▏                        | 38945/338253 [00:06<00:33, 9065.38it/s]"
     ]
    },
    {
     "name": "stderr",
     "output_type": "stream",
     "text": [
      "\r",
      "Downloading Dataset Version Zip in ../dataset/plat-kendaraan/ to yolov8::  12%|███▎                        | 39856/338253 [00:06<00:32, 9051.32it/s]"
     ]
    },
    {
     "name": "stderr",
     "output_type": "stream",
     "text": [
      "\r",
      "Downloading Dataset Version Zip in ../dataset/plat-kendaraan/ to yolov8::  12%|███▍                        | 40784/338253 [00:06<00:32, 9115.11it/s]"
     ]
    },
    {
     "name": "stderr",
     "output_type": "stream",
     "text": [
      "\r",
      "Downloading Dataset Version Zip in ../dataset/plat-kendaraan/ to yolov8::  12%|███▍                        | 41696/338253 [00:06<00:32, 9075.49it/s]"
     ]
    },
    {
     "name": "stderr",
     "output_type": "stream",
     "text": [
      "\r",
      "Downloading Dataset Version Zip in ../dataset/plat-kendaraan/ to yolov8::  13%|███▌                        | 42608/338253 [00:06<00:32, 9075.00it/s]"
     ]
    },
    {
     "name": "stderr",
     "output_type": "stream",
     "text": [
      "\r",
      "Downloading Dataset Version Zip in ../dataset/plat-kendaraan/ to yolov8::  13%|███▌                        | 43516/338253 [00:06<00:32, 9047.48it/s]"
     ]
    },
    {
     "name": "stderr",
     "output_type": "stream",
     "text": [
      "\r",
      "Downloading Dataset Version Zip in ../dataset/plat-kendaraan/ to yolov8::  13%|███▋                        | 44448/338253 [00:06<00:32, 9097.53it/s]"
     ]
    },
    {
     "name": "stderr",
     "output_type": "stream",
     "text": [
      "\r",
      "Downloading Dataset Version Zip in ../dataset/plat-kendaraan/ to yolov8::  13%|███▊                        | 45358/338253 [00:06<00:33, 8792.17it/s]"
     ]
    },
    {
     "name": "stderr",
     "output_type": "stream",
     "text": [
      "\r",
      "Downloading Dataset Version Zip in ../dataset/plat-kendaraan/ to yolov8::  14%|███▊                        | 46384/338253 [00:06<00:31, 9151.64it/s]"
     ]
    },
    {
     "name": "stderr",
     "output_type": "stream",
     "text": [
      "\r",
      "Downloading Dataset Version Zip in ../dataset/plat-kendaraan/ to yolov8::  14%|███▉                        | 47302/338253 [00:07<00:32, 8989.83it/s]"
     ]
    },
    {
     "name": "stderr",
     "output_type": "stream",
     "text": [
      "\r",
      "Downloading Dataset Version Zip in ../dataset/plat-kendaraan/ to yolov8::  14%|███▉                        | 48272/338253 [00:07<00:31, 9181.23it/s]"
     ]
    },
    {
     "name": "stderr",
     "output_type": "stream",
     "text": [
      "\r",
      "Downloading Dataset Version Zip in ../dataset/plat-kendaraan/ to yolov8::  15%|████                        | 49192/338253 [00:07<00:32, 8960.98it/s]"
     ]
    },
    {
     "name": "stderr",
     "output_type": "stream",
     "text": [
      "\r",
      "Downloading Dataset Version Zip in ../dataset/plat-kendaraan/ to yolov8::  15%|████▏                       | 50160/338253 [00:07<00:31, 9160.16it/s]"
     ]
    },
    {
     "name": "stderr",
     "output_type": "stream",
     "text": [
      "\r",
      "Downloading Dataset Version Zip in ../dataset/plat-kendaraan/ to yolov8::  15%|████▏                       | 51078/338253 [00:07<00:31, 9010.99it/s]"
     ]
    },
    {
     "name": "stderr",
     "output_type": "stream",
     "text": [
      "\r",
      "Downloading Dataset Version Zip in ../dataset/plat-kendaraan/ to yolov8::  15%|████▎                       | 51981/338253 [00:07<00:41, 6944.18it/s]"
     ]
    },
    {
     "name": "stderr",
     "output_type": "stream",
     "text": [
      "\r",
      "Downloading Dataset Version Zip in ../dataset/plat-kendaraan/ to yolov8::  16%|████▍                       | 53104/338253 [00:07<00:35, 7944.57it/s]"
     ]
    },
    {
     "name": "stderr",
     "output_type": "stream",
     "text": [
      "\r",
      "Downloading Dataset Version Zip in ../dataset/plat-kendaraan/ to yolov8::  16%|████▍                       | 54000/338253 [00:07<00:35, 8049.32it/s]"
     ]
    },
    {
     "name": "stderr",
     "output_type": "stream",
     "text": [
      "\r",
      "Downloading Dataset Version Zip in ../dataset/plat-kendaraan/ to yolov8::  16%|████▌                       | 54992/338253 [00:07<00:33, 8511.07it/s]"
     ]
    },
    {
     "name": "stderr",
     "output_type": "stream",
     "text": [
      "\r",
      "Downloading Dataset Version Zip in ../dataset/plat-kendaraan/ to yolov8::  17%|████▋                       | 55885/338253 [00:08<00:33, 8521.72it/s]"
     ]
    },
    {
     "name": "stderr",
     "output_type": "stream",
     "text": [
      "\r",
      "Downloading Dataset Version Zip in ../dataset/plat-kendaraan/ to yolov8::  17%|████▋                       | 56848/338253 [00:08<00:31, 8817.28it/s]"
     ]
    },
    {
     "name": "stderr",
     "output_type": "stream",
     "text": [
      "\r",
      "Downloading Dataset Version Zip in ../dataset/plat-kendaraan/ to yolov8::  17%|████▊                       | 57776/338253 [00:08<00:31, 8944.66it/s]"
     ]
    },
    {
     "name": "stderr",
     "output_type": "stream",
     "text": [
      "\r",
      "Downloading Dataset Version Zip in ../dataset/plat-kendaraan/ to yolov8::  17%|████▊                       | 58687/338253 [00:08<00:31, 8976.39it/s]"
     ]
    },
    {
     "name": "stderr",
     "output_type": "stream",
     "text": [
      "\r",
      "Downloading Dataset Version Zip in ../dataset/plat-kendaraan/ to yolov8::  18%|████▉                       | 59597/338253 [00:08<00:30, 9007.23it/s]"
     ]
    },
    {
     "name": "stderr",
     "output_type": "stream",
     "text": [
      "\r",
      "Downloading Dataset Version Zip in ../dataset/plat-kendaraan/ to yolov8::  18%|█████                       | 60506/338253 [00:08<00:37, 7342.30it/s]"
     ]
    },
    {
     "name": "stderr",
     "output_type": "stream",
     "text": [
      "\r",
      "Downloading Dataset Version Zip in ../dataset/plat-kendaraan/ to yolov8::  18%|█████                       | 61488/338253 [00:08<00:35, 7890.60it/s]"
     ]
    },
    {
     "name": "stderr",
     "output_type": "stream",
     "text": [
      "\r",
      "Downloading Dataset Version Zip in ../dataset/plat-kendaraan/ to yolov8::  18%|█████▏                      | 62464/338253 [00:08<00:32, 8385.07it/s]"
     ]
    },
    {
     "name": "stderr",
     "output_type": "stream",
     "text": [
      "\r",
      "Downloading Dataset Version Zip in ../dataset/plat-kendaraan/ to yolov8::  19%|█████▏                      | 63392/338253 [00:08<00:32, 8573.90it/s]"
     ]
    },
    {
     "name": "stderr",
     "output_type": "stream",
     "text": [
      "\r",
      "Downloading Dataset Version Zip in ../dataset/plat-kendaraan/ to yolov8::  19%|█████▎                      | 64304/338253 [00:09<00:31, 8722.94it/s]"
     ]
    },
    {
     "name": "stderr",
     "output_type": "stream",
     "text": [
      "\r",
      "Downloading Dataset Version Zip in ../dataset/plat-kendaraan/ to yolov8::  19%|█████▍                      | 65198/338253 [00:09<00:31, 8772.46it/s]"
     ]
    },
    {
     "name": "stderr",
     "output_type": "stream",
     "text": [
      "\r",
      "Downloading Dataset Version Zip in ../dataset/plat-kendaraan/ to yolov8::  20%|█████▍                      | 66112/338253 [00:09<00:30, 8825.08it/s]"
     ]
    },
    {
     "name": "stderr",
     "output_type": "stream",
     "text": [
      "\r",
      "Downloading Dataset Version Zip in ../dataset/plat-kendaraan/ to yolov8::  20%|█████▌                      | 67024/338253 [00:09<00:30, 8868.11it/s]"
     ]
    },
    {
     "name": "stderr",
     "output_type": "stream",
     "text": [
      "\r",
      "Downloading Dataset Version Zip in ../dataset/plat-kendaraan/ to yolov8::  20%|█████▌                      | 67919/338253 [00:09<00:30, 8832.58it/s]"
     ]
    },
    {
     "name": "stderr",
     "output_type": "stream",
     "text": [
      "\r",
      "Downloading Dataset Version Zip in ../dataset/plat-kendaraan/ to yolov8::  20%|█████▋                      | 68880/338253 [00:09<00:29, 9033.20it/s]"
     ]
    },
    {
     "name": "stderr",
     "output_type": "stream",
     "text": [
      "\r",
      "Downloading Dataset Version Zip in ../dataset/plat-kendaraan/ to yolov8::  21%|█████▊                      | 69788/338253 [00:09<00:29, 9009.38it/s]"
     ]
    },
    {
     "name": "stderr",
     "output_type": "stream",
     "text": [
      "\r",
      "Downloading Dataset Version Zip in ../dataset/plat-kendaraan/ to yolov8::  21%|█████▊                      | 70720/338253 [00:09<00:29, 9068.75it/s]"
     ]
    },
    {
     "name": "stderr",
     "output_type": "stream",
     "text": [
      "\r",
      "Downloading Dataset Version Zip in ../dataset/plat-kendaraan/ to yolov8::  21%|█████▉                      | 71632/338253 [00:09<00:29, 9080.94it/s]"
     ]
    },
    {
     "name": "stderr",
     "output_type": "stream",
     "text": [
      "\r",
      "Downloading Dataset Version Zip in ../dataset/plat-kendaraan/ to yolov8::  21%|██████                      | 72544/338253 [00:09<00:29, 9038.53it/s]"
     ]
    },
    {
     "name": "stderr",
     "output_type": "stream",
     "text": [
      "\r",
      "Downloading Dataset Version Zip in ../dataset/plat-kendaraan/ to yolov8::  22%|██████                      | 73472/338253 [00:10<00:29, 9076.38it/s]"
     ]
    },
    {
     "name": "stderr",
     "output_type": "stream",
     "text": [
      "\r",
      "Downloading Dataset Version Zip in ../dataset/plat-kendaraan/ to yolov8::  22%|██████▏                     | 74384/338253 [00:10<00:29, 9039.70it/s]"
     ]
    },
    {
     "name": "stderr",
     "output_type": "stream",
     "text": [
      "\r",
      "Downloading Dataset Version Zip in ../dataset/plat-kendaraan/ to yolov8::  22%|██████▏                     | 75289/338253 [00:10<00:29, 8869.48it/s]"
     ]
    },
    {
     "name": "stderr",
     "output_type": "stream",
     "text": [
      "\r",
      "Downloading Dataset Version Zip in ../dataset/plat-kendaraan/ to yolov8::  23%|██████▎                     | 76240/338253 [00:10<00:28, 9043.82it/s]"
     ]
    },
    {
     "name": "stderr",
     "output_type": "stream",
     "text": [
      "\r",
      "Downloading Dataset Version Zip in ../dataset/plat-kendaraan/ to yolov8::  23%|██████▍                     | 77146/338253 [00:10<00:29, 8919.85it/s]"
     ]
    },
    {
     "name": "stderr",
     "output_type": "stream",
     "text": [
      "\r",
      "Downloading Dataset Version Zip in ../dataset/plat-kendaraan/ to yolov8::  23%|██████▍                     | 78112/338253 [00:10<00:28, 9095.42it/s]"
     ]
    },
    {
     "name": "stderr",
     "output_type": "stream",
     "text": [
      "\r",
      "Downloading Dataset Version Zip in ../dataset/plat-kendaraan/ to yolov8::  23%|██████▌                     | 79023/338253 [00:10<00:29, 8901.72it/s]"
     ]
    },
    {
     "name": "stderr",
     "output_type": "stream",
     "text": [
      "\r",
      "Downloading Dataset Version Zip in ../dataset/plat-kendaraan/ to yolov8::  24%|██████▌                     | 80000/338253 [00:10<00:28, 9116.80it/s]"
     ]
    },
    {
     "name": "stderr",
     "output_type": "stream",
     "text": [
      "\r",
      "Downloading Dataset Version Zip in ../dataset/plat-kendaraan/ to yolov8::  24%|██████▋                     | 80928/338253 [00:10<00:28, 9117.83it/s]"
     ]
    },
    {
     "name": "stderr",
     "output_type": "stream",
     "text": [
      "\r",
      "Downloading Dataset Version Zip in ../dataset/plat-kendaraan/ to yolov8::  24%|██████▊                     | 81856/338253 [00:10<00:28, 9111.55it/s]"
     ]
    },
    {
     "name": "stderr",
     "output_type": "stream",
     "text": [
      "\r",
      "Downloading Dataset Version Zip in ../dataset/plat-kendaraan/ to yolov8::  24%|██████▊                     | 82784/338253 [00:11<00:27, 9143.57it/s]"
     ]
    },
    {
     "name": "stderr",
     "output_type": "stream",
     "text": [
      "\r",
      "Downloading Dataset Version Zip in ../dataset/plat-kendaraan/ to yolov8::  25%|██████▉                     | 83699/338253 [00:11<00:28, 9031.85it/s]"
     ]
    },
    {
     "name": "stderr",
     "output_type": "stream",
     "text": [
      "\r",
      "Downloading Dataset Version Zip in ../dataset/plat-kendaraan/ to yolov8::  25%|███████                     | 84640/338253 [00:11<00:27, 9137.50it/s]"
     ]
    },
    {
     "name": "stderr",
     "output_type": "stream",
     "text": [
      "\r",
      "Downloading Dataset Version Zip in ../dataset/plat-kendaraan/ to yolov8::  25%|███████                     | 85555/338253 [00:11<00:27, 9085.43it/s]"
     ]
    },
    {
     "name": "stderr",
     "output_type": "stream",
     "text": [
      "\r",
      "Downloading Dataset Version Zip in ../dataset/plat-kendaraan/ to yolov8::  26%|███████▏                    | 86464/338253 [00:11<00:27, 9026.61it/s]"
     ]
    },
    {
     "name": "stderr",
     "output_type": "stream",
     "text": [
      "\r",
      "Downloading Dataset Version Zip in ../dataset/plat-kendaraan/ to yolov8::  26%|███████▏                    | 87408/338253 [00:11<00:27, 9106.29it/s]"
     ]
    },
    {
     "name": "stderr",
     "output_type": "stream",
     "text": [
      "\r",
      "Downloading Dataset Version Zip in ../dataset/plat-kendaraan/ to yolov8::  26%|███████▎                    | 88352/338253 [00:11<00:27, 9146.52it/s]"
     ]
    },
    {
     "name": "stderr",
     "output_type": "stream",
     "text": [
      "\r",
      "Downloading Dataset Version Zip in ../dataset/plat-kendaraan/ to yolov8::  26%|███████▍                    | 89267/338253 [00:11<00:27, 9041.07it/s]"
     ]
    },
    {
     "name": "stderr",
     "output_type": "stream",
     "text": [
      "\r",
      "Downloading Dataset Version Zip in ../dataset/plat-kendaraan/ to yolov8::  27%|███████▍                    | 90172/338253 [00:11<00:27, 8972.62it/s]"
     ]
    },
    {
     "name": "stderr",
     "output_type": "stream",
     "text": [
      "\r",
      "Downloading Dataset Version Zip in ../dataset/plat-kendaraan/ to yolov8::  27%|███████▌                    | 91136/338253 [00:11<00:27, 9140.94it/s]"
     ]
    },
    {
     "name": "stderr",
     "output_type": "stream",
     "text": [
      "\r",
      "Downloading Dataset Version Zip in ../dataset/plat-kendaraan/ to yolov8::  27%|███████▌                    | 92064/338253 [00:12<00:26, 9123.13it/s]"
     ]
    },
    {
     "name": "stderr",
     "output_type": "stream",
     "text": [
      "\r",
      "Downloading Dataset Version Zip in ../dataset/plat-kendaraan/ to yolov8::  27%|███████▋                    | 92977/338253 [00:12<00:26, 9109.21it/s]"
     ]
    },
    {
     "name": "stderr",
     "output_type": "stream",
     "text": [
      "\r",
      "Downloading Dataset Version Zip in ../dataset/plat-kendaraan/ to yolov8::  28%|███████▊                    | 93920/338253 [00:12<00:26, 9175.49it/s]"
     ]
    },
    {
     "name": "stderr",
     "output_type": "stream",
     "text": [
      "\r",
      "Downloading Dataset Version Zip in ../dataset/plat-kendaraan/ to yolov8::  28%|███████▊                    | 94838/338253 [00:12<00:26, 9079.08it/s]"
     ]
    },
    {
     "name": "stderr",
     "output_type": "stream",
     "text": [
      "\r",
      "Downloading Dataset Version Zip in ../dataset/plat-kendaraan/ to yolov8::  28%|███████▉                    | 95747/338253 [00:12<00:26, 9043.11it/s]"
     ]
    },
    {
     "name": "stderr",
     "output_type": "stream",
     "text": [
      "\r",
      "Downloading Dataset Version Zip in ../dataset/plat-kendaraan/ to yolov8::  29%|████████                    | 96672/338253 [00:12<00:26, 9077.61it/s]"
     ]
    },
    {
     "name": "stderr",
     "output_type": "stream",
     "text": [
      "\r",
      "Downloading Dataset Version Zip in ../dataset/plat-kendaraan/ to yolov8::  29%|████████                    | 97580/338253 [00:12<00:34, 7024.69it/s]"
     ]
    },
    {
     "name": "stderr",
     "output_type": "stream",
     "text": [
      "\r",
      "Downloading Dataset Version Zip in ../dataset/plat-kendaraan/ to yolov8::  29%|████████▏                   | 98544/338253 [00:12<00:31, 7625.05it/s]"
     ]
    },
    {
     "name": "stderr",
     "output_type": "stream",
     "text": [
      "\r",
      "Downloading Dataset Version Zip in ../dataset/plat-kendaraan/ to yolov8::  29%|████████▏                   | 99488/338253 [00:13<00:29, 8056.92it/s]"
     ]
    },
    {
     "name": "stderr",
     "output_type": "stream",
     "text": [
      "\r",
      "Downloading Dataset Version Zip in ../dataset/plat-kendaraan/ to yolov8::  30%|████████                   | 100368/338253 [00:13<00:29, 8167.07it/s]"
     ]
    },
    {
     "name": "stderr",
     "output_type": "stream",
     "text": [
      "\r",
      "Downloading Dataset Version Zip in ../dataset/plat-kendaraan/ to yolov8::  30%|████████                   | 101328/338253 [00:13<00:27, 8560.39it/s]"
     ]
    },
    {
     "name": "stderr",
     "output_type": "stream",
     "text": [
      "\r",
      "Downloading Dataset Version Zip in ../dataset/plat-kendaraan/ to yolov8::  30%|████████▏                  | 102240/338253 [00:13<00:27, 8673.52it/s]"
     ]
    },
    {
     "name": "stderr",
     "output_type": "stream",
     "text": [
      "\r",
      "Downloading Dataset Version Zip in ../dataset/plat-kendaraan/ to yolov8::  31%|████████▏                  | 103168/338253 [00:13<00:26, 8813.44it/s]"
     ]
    },
    {
     "name": "stderr",
     "output_type": "stream",
     "text": [
      "\r",
      "Downloading Dataset Version Zip in ../dataset/plat-kendaraan/ to yolov8::  31%|████████▎                  | 104080/338253 [00:13<00:26, 8850.84it/s]"
     ]
    },
    {
     "name": "stderr",
     "output_type": "stream",
     "text": [
      "\r",
      "Downloading Dataset Version Zip in ../dataset/plat-kendaraan/ to yolov8::  31%|████████▍                  | 105024/338253 [00:13<00:25, 8988.33it/s]"
     ]
    },
    {
     "name": "stderr",
     "output_type": "stream",
     "text": [
      "\r",
      "Downloading Dataset Version Zip in ../dataset/plat-kendaraan/ to yolov8::  31%|████████▍                  | 105936/338253 [00:13<00:25, 8981.05it/s]"
     ]
    },
    {
     "name": "stderr",
     "output_type": "stream",
     "text": [
      "\r",
      "Downloading Dataset Version Zip in ../dataset/plat-kendaraan/ to yolov8::  32%|████████▌                  | 106840/338253 [00:13<00:26, 8844.66it/s]"
     ]
    },
    {
     "name": "stderr",
     "output_type": "stream",
     "text": [
      "\r",
      "Downloading Dataset Version Zip in ../dataset/plat-kendaraan/ to yolov8::  32%|████████▌                  | 107808/338253 [00:13<00:25, 9077.25it/s]"
     ]
    },
    {
     "name": "stderr",
     "output_type": "stream",
     "text": [
      "\r",
      "Downloading Dataset Version Zip in ../dataset/plat-kendaraan/ to yolov8::  32%|████████▋                  | 108720/338253 [00:14<00:25, 9076.11it/s]"
     ]
    },
    {
     "name": "stderr",
     "output_type": "stream",
     "text": [
      "\r",
      "Downloading Dataset Version Zip in ../dataset/plat-kendaraan/ to yolov8::  32%|████████▊                  | 109648/338253 [00:14<00:25, 9088.84it/s]"
     ]
    },
    {
     "name": "stderr",
     "output_type": "stream",
     "text": [
      "\r",
      "Downloading Dataset Version Zip in ../dataset/plat-kendaraan/ to yolov8::  33%|████████▊                  | 110559/338253 [00:14<00:25, 8954.96it/s]"
     ]
    },
    {
     "name": "stderr",
     "output_type": "stream",
     "text": [
      "\r",
      "Downloading Dataset Version Zip in ../dataset/plat-kendaraan/ to yolov8::  33%|████████▉                  | 111520/338253 [00:14<00:24, 9138.87it/s]"
     ]
    },
    {
     "name": "stderr",
     "output_type": "stream",
     "text": [
      "\r",
      "Downloading Dataset Version Zip in ../dataset/plat-kendaraan/ to yolov8::  33%|████████▉                  | 112436/338253 [00:14<00:24, 9060.60it/s]"
     ]
    },
    {
     "name": "stderr",
     "output_type": "stream",
     "text": [
      "\r",
      "Downloading Dataset Version Zip in ../dataset/plat-kendaraan/ to yolov8::  34%|█████████                  | 113376/338253 [00:14<00:24, 9111.63it/s]"
     ]
    },
    {
     "name": "stderr",
     "output_type": "stream",
     "text": [
      "\r",
      "Downloading Dataset Version Zip in ../dataset/plat-kendaraan/ to yolov8::  34%|█████████                  | 114288/338253 [00:14<00:24, 9026.90it/s]"
     ]
    },
    {
     "name": "stderr",
     "output_type": "stream",
     "text": [
      "\r",
      "Downloading Dataset Version Zip in ../dataset/plat-kendaraan/ to yolov8::  34%|█████████▏                 | 115232/338253 [00:14<00:24, 9137.16it/s]"
     ]
    },
    {
     "name": "stderr",
     "output_type": "stream",
     "text": [
      "\r",
      "Downloading Dataset Version Zip in ../dataset/plat-kendaraan/ to yolov8::  34%|█████████▎                 | 116147/338253 [00:14<00:24, 9102.45it/s]"
     ]
    },
    {
     "name": "stderr",
     "output_type": "stream",
     "text": [
      "\r",
      "Downloading Dataset Version Zip in ../dataset/plat-kendaraan/ to yolov8::  35%|█████████▎                 | 117058/338253 [00:14<00:26, 8425.71it/s]"
     ]
    },
    {
     "name": "stderr",
     "output_type": "stream",
     "text": [
      "\r",
      "Downloading Dataset Version Zip in ../dataset/plat-kendaraan/ to yolov8::  35%|█████████▍                 | 117911/338253 [00:15<00:26, 8221.51it/s]"
     ]
    },
    {
     "name": "stderr",
     "output_type": "stream",
     "text": [
      "\r",
      "Downloading Dataset Version Zip in ../dataset/plat-kendaraan/ to yolov8::  35%|█████████▍                 | 118944/338253 [00:15<00:26, 8304.36it/s]"
     ]
    },
    {
     "name": "stderr",
     "output_type": "stream",
     "text": [
      "\r",
      "Downloading Dataset Version Zip in ../dataset/plat-kendaraan/ to yolov8::  36%|█████████▌                 | 120112/338253 [00:15<00:23, 9220.31it/s]"
     ]
    },
    {
     "name": "stderr",
     "output_type": "stream",
     "text": [
      "\r",
      "Downloading Dataset Version Zip in ../dataset/plat-kendaraan/ to yolov8::  36%|█████████▋                 | 121046/338253 [00:15<00:24, 8994.02it/s]"
     ]
    },
    {
     "name": "stderr",
     "output_type": "stream",
     "text": [
      "\r",
      "Downloading Dataset Version Zip in ../dataset/plat-kendaraan/ to yolov8::  36%|█████████▋                 | 121954/338253 [00:15<00:24, 8984.46it/s]"
     ]
    },
    {
     "name": "stderr",
     "output_type": "stream",
     "text": [
      "\r",
      "Downloading Dataset Version Zip in ../dataset/plat-kendaraan/ to yolov8::  36%|█████████▊                 | 122944/338253 [00:15<00:23, 9197.78it/s]"
     ]
    },
    {
     "name": "stderr",
     "output_type": "stream",
     "text": [
      "\r",
      "Downloading Dataset Version Zip in ../dataset/plat-kendaraan/ to yolov8::  37%|█████████▉                 | 123869/338253 [00:15<00:23, 9118.85it/s]"
     ]
    },
    {
     "name": "stderr",
     "output_type": "stream",
     "text": [
      "\r",
      "Downloading Dataset Version Zip in ../dataset/plat-kendaraan/ to yolov8::  37%|█████████▉                 | 124816/338253 [00:15<00:23, 9208.35it/s]"
     ]
    },
    {
     "name": "stderr",
     "output_type": "stream",
     "text": [
      "\r",
      "Downloading Dataset Version Zip in ../dataset/plat-kendaraan/ to yolov8::  37%|██████████                 | 125740/338253 [00:15<00:23, 8972.89it/s]"
     ]
    },
    {
     "name": "stderr",
     "output_type": "stream",
     "text": [
      "\r",
      "Downloading Dataset Version Zip in ../dataset/plat-kendaraan/ to yolov8::  37%|██████████                 | 126688/338253 [00:16<00:23, 9085.33it/s]"
     ]
    },
    {
     "name": "stderr",
     "output_type": "stream",
     "text": [
      "\r",
      "Downloading Dataset Version Zip in ../dataset/plat-kendaraan/ to yolov8::  38%|██████████▏                | 127616/338253 [00:16<00:23, 9122.69it/s]"
     ]
    },
    {
     "name": "stderr",
     "output_type": "stream",
     "text": [
      "\r",
      "Downloading Dataset Version Zip in ../dataset/plat-kendaraan/ to yolov8::  38%|██████████▎                | 128530/338253 [00:16<00:23, 9095.19it/s]"
     ]
    },
    {
     "name": "stderr",
     "output_type": "stream",
     "text": [
      "\r",
      "Downloading Dataset Version Zip in ../dataset/plat-kendaraan/ to yolov8::  38%|██████████▎                | 129441/338253 [00:16<00:23, 9045.36it/s]"
     ]
    },
    {
     "name": "stderr",
     "output_type": "stream",
     "text": [
      "\r",
      "Downloading Dataset Version Zip in ../dataset/plat-kendaraan/ to yolov8::  39%|██████████▍                | 130347/338253 [00:16<00:23, 8972.63it/s]"
     ]
    },
    {
     "name": "stderr",
     "output_type": "stream",
     "text": [
      "\r",
      "Downloading Dataset Version Zip in ../dataset/plat-kendaraan/ to yolov8::  39%|██████████▍                | 131312/338253 [00:16<00:22, 9138.68it/s]"
     ]
    },
    {
     "name": "stderr",
     "output_type": "stream",
     "text": [
      "\r",
      "Downloading Dataset Version Zip in ../dataset/plat-kendaraan/ to yolov8::  39%|██████████▌                | 132227/338253 [00:16<00:22, 9099.51it/s]"
     ]
    },
    {
     "name": "stderr",
     "output_type": "stream",
     "text": [
      "\r",
      "Downloading Dataset Version Zip in ../dataset/plat-kendaraan/ to yolov8::  39%|██████████▋                | 133138/338253 [00:16<00:22, 9064.89it/s]"
     ]
    },
    {
     "name": "stderr",
     "output_type": "stream",
     "text": [
      "\r",
      "Downloading Dataset Version Zip in ../dataset/plat-kendaraan/ to yolov8::  40%|██████████▋                | 134064/338253 [00:16<00:22, 9092.70it/s]"
     ]
    },
    {
     "name": "stderr",
     "output_type": "stream",
     "text": [
      "\r",
      "Downloading Dataset Version Zip in ../dataset/plat-kendaraan/ to yolov8::  40%|██████████▊                | 134974/338253 [00:16<00:22, 8914.90it/s]"
     ]
    },
    {
     "name": "stderr",
     "output_type": "stream",
     "text": [
      "\r",
      "Downloading Dataset Version Zip in ../dataset/plat-kendaraan/ to yolov8::  40%|██████████▊                | 135888/338253 [00:17<00:22, 8914.96it/s]"
     ]
    },
    {
     "name": "stderr",
     "output_type": "stream",
     "text": [
      "\r",
      "Downloading Dataset Version Zip in ../dataset/plat-kendaraan/ to yolov8::  40%|██████████▉                | 136880/338253 [00:17<00:21, 9197.49it/s]"
     ]
    },
    {
     "name": "stderr",
     "output_type": "stream",
     "text": [
      "\r",
      "Downloading Dataset Version Zip in ../dataset/plat-kendaraan/ to yolov8::  41%|██████████▉                | 137801/338253 [00:17<00:21, 9155.51it/s]"
     ]
    },
    {
     "name": "stderr",
     "output_type": "stream",
     "text": [
      "\r",
      "Downloading Dataset Version Zip in ../dataset/plat-kendaraan/ to yolov8::  41%|███████████                | 138720/338253 [00:17<00:21, 9116.23it/s]"
     ]
    },
    {
     "name": "stderr",
     "output_type": "stream",
     "text": [
      "\r",
      "Downloading Dataset Version Zip in ../dataset/plat-kendaraan/ to yolov8::  41%|███████████▏               | 139633/338253 [00:17<00:21, 9080.40it/s]"
     ]
    },
    {
     "name": "stderr",
     "output_type": "stream",
     "text": [
      "\r",
      "Downloading Dataset Version Zip in ../dataset/plat-kendaraan/ to yolov8::  42%|███████████▏               | 140542/338253 [00:17<00:22, 8596.19it/s]"
     ]
    },
    {
     "name": "stderr",
     "output_type": "stream",
     "text": [
      "\r",
      "Downloading Dataset Version Zip in ../dataset/plat-kendaraan/ to yolov8::  42%|███████████▎               | 141407/338253 [00:17<00:22, 8569.99it/s]"
     ]
    },
    {
     "name": "stderr",
     "output_type": "stream",
     "text": [
      "\r",
      "Downloading Dataset Version Zip in ../dataset/plat-kendaraan/ to yolov8::  42%|███████████▎               | 142268/338253 [00:17<00:22, 8533.26it/s]"
     ]
    },
    {
     "name": "stderr",
     "output_type": "stream",
     "text": [
      "\r",
      "Downloading Dataset Version Zip in ../dataset/plat-kendaraan/ to yolov8::  42%|███████████▍               | 143124/338253 [00:17<00:23, 8233.55it/s]"
     ]
    },
    {
     "name": "stderr",
     "output_type": "stream",
     "text": [
      "\r",
      "Downloading Dataset Version Zip in ../dataset/plat-kendaraan/ to yolov8::  43%|███████████▍               | 143952/338253 [00:17<00:23, 8226.55it/s]"
     ]
    },
    {
     "name": "stderr",
     "output_type": "stream",
     "text": [
      "\r",
      "Downloading Dataset Version Zip in ../dataset/plat-kendaraan/ to yolov8::  43%|███████████▌               | 144880/338253 [00:18<00:22, 8413.30it/s]"
     ]
    },
    {
     "name": "stderr",
     "output_type": "stream",
     "text": [
      "\r",
      "Downloading Dataset Version Zip in ../dataset/plat-kendaraan/ to yolov8::  43%|███████████▋               | 145792/338253 [00:18<00:22, 8607.50it/s]"
     ]
    },
    {
     "name": "stderr",
     "output_type": "stream",
     "text": [
      "\r",
      "Downloading Dataset Version Zip in ../dataset/plat-kendaraan/ to yolov8::  43%|███████████▋               | 146720/338253 [00:18<00:21, 8792.18it/s]"
     ]
    },
    {
     "name": "stderr",
     "output_type": "stream",
     "text": [
      "\r",
      "Downloading Dataset Version Zip in ../dataset/plat-kendaraan/ to yolov8::  44%|███████████▊               | 147601/338253 [00:18<00:22, 8412.76it/s]"
     ]
    },
    {
     "name": "stderr",
     "output_type": "stream",
     "text": [
      "\r",
      "Downloading Dataset Version Zip in ../dataset/plat-kendaraan/ to yolov8::  44%|███████████▊               | 148447/338253 [00:18<00:24, 7640.17it/s]"
     ]
    },
    {
     "name": "stderr",
     "output_type": "stream",
     "text": [
      "\r",
      "Downloading Dataset Version Zip in ../dataset/plat-kendaraan/ to yolov8::  44%|███████████▉               | 149226/338253 [00:18<00:28, 6542.11it/s]"
     ]
    },
    {
     "name": "stderr",
     "output_type": "stream",
     "text": [
      "\r",
      "Downloading Dataset Version Zip in ../dataset/plat-kendaraan/ to yolov8::  44%|███████████▉               | 149914/338253 [00:18<00:30, 6134.57it/s]"
     ]
    },
    {
     "name": "stderr",
     "output_type": "stream",
     "text": [
      "\r",
      "Downloading Dataset Version Zip in ../dataset/plat-kendaraan/ to yolov8::  45%|████████████               | 150848/338253 [00:18<00:27, 6806.28it/s]"
     ]
    },
    {
     "name": "stderr",
     "output_type": "stream",
     "text": [
      "\r",
      "Downloading Dataset Version Zip in ../dataset/plat-kendaraan/ to yolov8::  45%|████████████               | 151792/338253 [00:19<00:24, 7471.52it/s]"
     ]
    },
    {
     "name": "stderr",
     "output_type": "stream",
     "text": [
      "\r",
      "Downloading Dataset Version Zip in ../dataset/plat-kendaraan/ to yolov8::  45%|████████████▏              | 152688/338253 [00:19<00:23, 7858.29it/s]"
     ]
    },
    {
     "name": "stderr",
     "output_type": "stream",
     "text": [
      "\r",
      "Downloading Dataset Version Zip in ../dataset/plat-kendaraan/ to yolov8::  45%|████████████▎              | 153632/338253 [00:19<00:22, 8243.60it/s]"
     ]
    },
    {
     "name": "stderr",
     "output_type": "stream",
     "text": [
      "\r",
      "Downloading Dataset Version Zip in ../dataset/plat-kendaraan/ to yolov8::  46%|████████████▎              | 154544/338253 [00:19<00:21, 8463.85it/s]"
     ]
    },
    {
     "name": "stderr",
     "output_type": "stream",
     "text": [
      "\r",
      "Downloading Dataset Version Zip in ../dataset/plat-kendaraan/ to yolov8::  46%|████████████▍              | 155440/338253 [00:19<00:21, 8569.85it/s]"
     ]
    },
    {
     "name": "stderr",
     "output_type": "stream",
     "text": [
      "\r",
      "Downloading Dataset Version Zip in ../dataset/plat-kendaraan/ to yolov8::  46%|████████████▍              | 156368/338253 [00:19<00:20, 8759.68it/s]"
     ]
    },
    {
     "name": "stderr",
     "output_type": "stream",
     "text": [
      "\r",
      "Downloading Dataset Version Zip in ../dataset/plat-kendaraan/ to yolov8::  46%|████████████▌              | 157280/338253 [00:19<00:20, 8854.06it/s]"
     ]
    },
    {
     "name": "stderr",
     "output_type": "stream",
     "text": [
      "\r",
      "Downloading Dataset Version Zip in ../dataset/plat-kendaraan/ to yolov8::  47%|████████████▋              | 158192/338253 [00:19<00:20, 8889.79it/s]"
     ]
    },
    {
     "name": "stderr",
     "output_type": "stream",
     "text": [
      "\r",
      "Downloading Dataset Version Zip in ../dataset/plat-kendaraan/ to yolov8::  47%|████████████▋              | 159088/338253 [00:19<00:20, 8887.71it/s]"
     ]
    },
    {
     "name": "stderr",
     "output_type": "stream",
     "text": [
      "\r",
      "Downloading Dataset Version Zip in ../dataset/plat-kendaraan/ to yolov8::  47%|████████████▊              | 159984/338253 [00:19<00:20, 8900.74it/s]"
     ]
    },
    {
     "name": "stderr",
     "output_type": "stream",
     "text": [
      "\r",
      "Downloading Dataset Version Zip in ../dataset/plat-kendaraan/ to yolov8::  48%|████████████▊              | 160880/338253 [00:20<00:19, 8909.58it/s]"
     ]
    },
    {
     "name": "stderr",
     "output_type": "stream",
     "text": [
      "\r",
      "Downloading Dataset Version Zip in ../dataset/plat-kendaraan/ to yolov8::  48%|████████████▉              | 161773/338253 [00:20<00:20, 8614.13it/s]"
     ]
    },
    {
     "name": "stderr",
     "output_type": "stream",
     "text": [
      "\r",
      "Downloading Dataset Version Zip in ../dataset/plat-kendaraan/ to yolov8::  48%|████████████▉              | 162638/338253 [00:20<00:20, 8466.58it/s]"
     ]
    },
    {
     "name": "stderr",
     "output_type": "stream",
     "text": [
      "\r",
      "Downloading Dataset Version Zip in ../dataset/plat-kendaraan/ to yolov8::  48%|█████████████              | 163744/338253 [00:20<00:19, 9151.41it/s]"
     ]
    },
    {
     "name": "stderr",
     "output_type": "stream",
     "text": [
      "\r",
      "Downloading Dataset Version Zip in ../dataset/plat-kendaraan/ to yolov8::  49%|█████████████▏             | 164672/338253 [00:20<00:18, 9152.63it/s]"
     ]
    },
    {
     "name": "stderr",
     "output_type": "stream",
     "text": [
      "\r",
      "Downloading Dataset Version Zip in ../dataset/plat-kendaraan/ to yolov8::  49%|█████████████▏             | 165590/338253 [00:20<00:18, 9132.05it/s]"
     ]
    },
    {
     "name": "stderr",
     "output_type": "stream",
     "text": [
      "\r",
      "Downloading Dataset Version Zip in ../dataset/plat-kendaraan/ to yolov8::  49%|█████████████▎             | 166512/338253 [00:20<00:18, 9125.73it/s]"
     ]
    },
    {
     "name": "stderr",
     "output_type": "stream",
     "text": [
      "\r",
      "Downloading Dataset Version Zip in ../dataset/plat-kendaraan/ to yolov8::  49%|█████████████▎             | 167426/338253 [00:20<00:18, 9104.04it/s]"
     ]
    },
    {
     "name": "stderr",
     "output_type": "stream",
     "text": [
      "\r",
      "Downloading Dataset Version Zip in ../dataset/plat-kendaraan/ to yolov8::  50%|█████████████▍             | 168338/338253 [00:20<00:19, 8782.22it/s]"
     ]
    },
    {
     "name": "stderr",
     "output_type": "stream",
     "text": [
      "\r",
      "Downloading Dataset Version Zip in ../dataset/plat-kendaraan/ to yolov8::  50%|█████████████▌             | 169296/338253 [00:21<00:18, 9001.76it/s]"
     ]
    },
    {
     "name": "stderr",
     "output_type": "stream",
     "text": [
      "\r",
      "Downloading Dataset Version Zip in ../dataset/plat-kendaraan/ to yolov8::  50%|█████████████▌             | 170240/338253 [00:21<00:18, 9107.43it/s]"
     ]
    },
    {
     "name": "stderr",
     "output_type": "stream",
     "text": [
      "\r",
      "Downloading Dataset Version Zip in ../dataset/plat-kendaraan/ to yolov8::  51%|█████████████▋             | 171153/338253 [00:21<00:18, 8991.34it/s]"
     ]
    },
    {
     "name": "stderr",
     "output_type": "stream",
     "text": [
      "\r",
      "Downloading Dataset Version Zip in ../dataset/plat-kendaraan/ to yolov8::  51%|█████████████▋             | 172080/338253 [00:21<00:18, 9039.57it/s]"
     ]
    },
    {
     "name": "stderr",
     "output_type": "stream",
     "text": [
      "\r",
      "Downloading Dataset Version Zip in ../dataset/plat-kendaraan/ to yolov8::  51%|█████████████▊             | 172992/338253 [00:21<00:18, 9036.36it/s]"
     ]
    },
    {
     "name": "stderr",
     "output_type": "stream",
     "text": [
      "\r",
      "Downloading Dataset Version Zip in ../dataset/plat-kendaraan/ to yolov8::  51%|█████████████▉             | 173920/338253 [00:21<00:18, 9105.22it/s]"
     ]
    },
    {
     "name": "stderr",
     "output_type": "stream",
     "text": [
      "\r",
      "Downloading Dataset Version Zip in ../dataset/plat-kendaraan/ to yolov8::  52%|█████████████▉             | 174832/338253 [00:21<00:18, 9048.84it/s]"
     ]
    },
    {
     "name": "stderr",
     "output_type": "stream",
     "text": [
      "\r",
      "Downloading Dataset Version Zip in ../dataset/plat-kendaraan/ to yolov8::  52%|██████████████             | 175744/338253 [00:21<00:17, 9063.44it/s]"
     ]
    },
    {
     "name": "stderr",
     "output_type": "stream",
     "text": [
      "\r",
      "Downloading Dataset Version Zip in ../dataset/plat-kendaraan/ to yolov8::  52%|██████████████             | 176672/338253 [00:21<00:17, 9115.40it/s]"
     ]
    },
    {
     "name": "stderr",
     "output_type": "stream",
     "text": [
      "\r",
      "Downloading Dataset Version Zip in ../dataset/plat-kendaraan/ to yolov8::  53%|██████████████▏            | 177584/338253 [00:21<00:17, 9008.20it/s]"
     ]
    },
    {
     "name": "stderr",
     "output_type": "stream",
     "text": [
      "\r",
      "Downloading Dataset Version Zip in ../dataset/plat-kendaraan/ to yolov8::  53%|██████████████▏            | 178486/338253 [00:22<00:17, 9007.80it/s]"
     ]
    },
    {
     "name": "stderr",
     "output_type": "stream",
     "text": [
      "\r",
      "Downloading Dataset Version Zip in ../dataset/plat-kendaraan/ to yolov8::  53%|██████████████▎            | 179408/338253 [00:22<00:17, 9046.57it/s]"
     ]
    },
    {
     "name": "stderr",
     "output_type": "stream",
     "text": [
      "\r",
      "Downloading Dataset Version Zip in ../dataset/plat-kendaraan/ to yolov8::  53%|██████████████▍            | 180352/338253 [00:22<00:17, 9105.48it/s]"
     ]
    },
    {
     "name": "stderr",
     "output_type": "stream",
     "text": [
      "\r",
      "Downloading Dataset Version Zip in ../dataset/plat-kendaraan/ to yolov8::  54%|██████████████▍            | 181264/338253 [00:22<00:17, 9061.03it/s]"
     ]
    },
    {
     "name": "stderr",
     "output_type": "stream",
     "text": [
      "\r",
      "Downloading Dataset Version Zip in ../dataset/plat-kendaraan/ to yolov8::  54%|██████████████▌            | 182208/338253 [00:22<00:17, 9138.81it/s]"
     ]
    },
    {
     "name": "stderr",
     "output_type": "stream",
     "text": [
      "\r",
      "Downloading Dataset Version Zip in ../dataset/plat-kendaraan/ to yolov8::  54%|██████████████▌            | 183122/338253 [00:22<00:16, 9135.12it/s]"
     ]
    },
    {
     "name": "stderr",
     "output_type": "stream",
     "text": [
      "\r",
      "Downloading Dataset Version Zip in ../dataset/plat-kendaraan/ to yolov8::  54%|██████████████▋            | 184036/338253 [00:22<00:21, 7032.13it/s]"
     ]
    },
    {
     "name": "stderr",
     "output_type": "stream",
     "text": [
      "\r",
      "Downloading Dataset Version Zip in ../dataset/plat-kendaraan/ to yolov8::  55%|██████████████▊            | 185040/338253 [00:22<00:19, 7738.25it/s]"
     ]
    },
    {
     "name": "stderr",
     "output_type": "stream",
     "text": [
      "\r",
      "Downloading Dataset Version Zip in ../dataset/plat-kendaraan/ to yolov8::  55%|██████████████▊            | 185920/338253 [00:22<00:19, 7978.97it/s]"
     ]
    },
    {
     "name": "stderr",
     "output_type": "stream",
     "text": [
      "\r",
      "Downloading Dataset Version Zip in ../dataset/plat-kendaraan/ to yolov8::  55%|██████████████▉            | 186896/338253 [00:23<00:17, 8429.16it/s]"
     ]
    },
    {
     "name": "stderr",
     "output_type": "stream",
     "text": [
      "\r",
      "Downloading Dataset Version Zip in ../dataset/plat-kendaraan/ to yolov8::  56%|██████████████▉            | 187824/338253 [00:23<00:17, 8650.99it/s]"
     ]
    },
    {
     "name": "stderr",
     "output_type": "stream",
     "text": [
      "\r",
      "Downloading Dataset Version Zip in ../dataset/plat-kendaraan/ to yolov8::  56%|███████████████            | 188719/338253 [00:23<00:17, 8603.63it/s]"
     ]
    },
    {
     "name": "stderr",
     "output_type": "stream",
     "text": [
      "\r",
      "Downloading Dataset Version Zip in ../dataset/plat-kendaraan/ to yolov8::  56%|███████████████▏           | 189664/338253 [00:23<00:16, 8826.28it/s]"
     ]
    },
    {
     "name": "stderr",
     "output_type": "stream",
     "text": [
      "\r",
      "Downloading Dataset Version Zip in ../dataset/plat-kendaraan/ to yolov8::  56%|███████████████▏           | 190592/338253 [00:23<00:16, 8942.92it/s]"
     ]
    },
    {
     "name": "stderr",
     "output_type": "stream",
     "text": [
      "\r",
      "Downloading Dataset Version Zip in ../dataset/plat-kendaraan/ to yolov8::  57%|███████████████▎           | 191504/338253 [00:23<00:16, 8982.63it/s]"
     ]
    },
    {
     "name": "stderr",
     "output_type": "stream",
     "text": [
      "\r",
      "Downloading Dataset Version Zip in ../dataset/plat-kendaraan/ to yolov8::  57%|███████████████▎           | 192432/338253 [00:23<00:16, 9026.28it/s]"
     ]
    },
    {
     "name": "stderr",
     "output_type": "stream",
     "text": [
      "\r",
      "Downloading Dataset Version Zip in ../dataset/plat-kendaraan/ to yolov8::  57%|███████████████▍           | 193341/338253 [00:23<00:16, 9038.63it/s]"
     ]
    },
    {
     "name": "stderr",
     "output_type": "stream",
     "text": [
      "\r",
      "Downloading Dataset Version Zip in ../dataset/plat-kendaraan/ to yolov8::  57%|███████████████▌           | 194249/338253 [00:23<00:15, 9044.12it/s]"
     ]
    },
    {
     "name": "stderr",
     "output_type": "stream",
     "text": [
      "\r",
      "Downloading Dataset Version Zip in ../dataset/plat-kendaraan/ to yolov8::  58%|███████████████▌           | 195157/338253 [00:23<00:16, 8930.35it/s]"
     ]
    },
    {
     "name": "stderr",
     "output_type": "stream",
     "text": [
      "\r",
      "Downloading Dataset Version Zip in ../dataset/plat-kendaraan/ to yolov8::  58%|███████████████▋           | 196112/338253 [00:24<00:15, 9060.18it/s]"
     ]
    },
    {
     "name": "stderr",
     "output_type": "stream",
     "text": [
      "\r",
      "Downloading Dataset Version Zip in ../dataset/plat-kendaraan/ to yolov8::  58%|███████████████▋           | 197020/338253 [00:24<00:15, 8881.90it/s]"
     ]
    },
    {
     "name": "stderr",
     "output_type": "stream",
     "text": [
      "\r",
      "Downloading Dataset Version Zip in ../dataset/plat-kendaraan/ to yolov8::  59%|███████████████▊           | 198016/338253 [00:24<00:15, 9142.73it/s]"
     ]
    },
    {
     "name": "stderr",
     "output_type": "stream",
     "text": [
      "\r",
      "Downloading Dataset Version Zip in ../dataset/plat-kendaraan/ to yolov8::  59%|███████████████▉           | 198932/338253 [00:24<00:15, 9130.01it/s]"
     ]
    },
    {
     "name": "stderr",
     "output_type": "stream",
     "text": [
      "\r",
      "Downloading Dataset Version Zip in ../dataset/plat-kendaraan/ to yolov8::  59%|███████████████▉           | 199846/338253 [00:24<00:15, 9125.39it/s]"
     ]
    },
    {
     "name": "stderr",
     "output_type": "stream",
     "text": [
      "\r",
      "Downloading Dataset Version Zip in ../dataset/plat-kendaraan/ to yolov8::  59%|████████████████           | 200760/338253 [00:24<00:15, 9072.14it/s]"
     ]
    },
    {
     "name": "stderr",
     "output_type": "stream",
     "text": [
      "\r",
      "Downloading Dataset Version Zip in ../dataset/plat-kendaraan/ to yolov8::  60%|████████████████           | 201668/338253 [00:24<00:15, 9060.71it/s]"
     ]
    },
    {
     "name": "stderr",
     "output_type": "stream",
     "text": [
      "\r",
      "Downloading Dataset Version Zip in ../dataset/plat-kendaraan/ to yolov8::  60%|████████████████▏          | 202592/338253 [00:24<00:14, 9100.05it/s]"
     ]
    },
    {
     "name": "stderr",
     "output_type": "stream",
     "text": [
      "\r",
      "Downloading Dataset Version Zip in ../dataset/plat-kendaraan/ to yolov8::  60%|████████████████▏          | 203504/338253 [00:24<00:15, 8878.81it/s]"
     ]
    },
    {
     "name": "stderr",
     "output_type": "stream",
     "text": [
      "\r",
      "Downloading Dataset Version Zip in ../dataset/plat-kendaraan/ to yolov8::  60%|████████████████▎          | 204394/338253 [00:24<00:16, 8116.17it/s]"
     ]
    },
    {
     "name": "stderr",
     "output_type": "stream",
     "text": [
      "\r",
      "Downloading Dataset Version Zip in ../dataset/plat-kendaraan/ to yolov8::  61%|████████████████▍          | 205219/338253 [00:25<00:19, 6903.99it/s]"
     ]
    },
    {
     "name": "stderr",
     "output_type": "stream",
     "text": [
      "\r",
      "Downloading Dataset Version Zip in ../dataset/plat-kendaraan/ to yolov8::  61%|████████████████▍          | 205946/338253 [00:25<00:19, 6630.73it/s]"
     ]
    },
    {
     "name": "stderr",
     "output_type": "stream",
     "text": [
      "\r",
      "Downloading Dataset Version Zip in ../dataset/plat-kendaraan/ to yolov8::  61%|████████████████▌          | 207024/338253 [00:25<00:17, 7642.13it/s]"
     ]
    },
    {
     "name": "stderr",
     "output_type": "stream",
     "text": [
      "\r",
      "Downloading Dataset Version Zip in ../dataset/plat-kendaraan/ to yolov8::  61%|████████████████▌          | 207936/338253 [00:25<00:16, 7997.51it/s]"
     ]
    },
    {
     "name": "stderr",
     "output_type": "stream",
     "text": [
      "\r",
      "Downloading Dataset Version Zip in ../dataset/plat-kendaraan/ to yolov8::  62%|████████████████▋          | 208880/338253 [00:25<00:15, 8340.87it/s]"
     ]
    },
    {
     "name": "stderr",
     "output_type": "stream",
     "text": [
      "\r",
      "Downloading Dataset Version Zip in ../dataset/plat-kendaraan/ to yolov8::  62%|████████████████▋          | 209792/338253 [00:25<00:15, 8545.15it/s]"
     ]
    },
    {
     "name": "stderr",
     "output_type": "stream",
     "text": [
      "\r",
      "Downloading Dataset Version Zip in ../dataset/plat-kendaraan/ to yolov8::  62%|████████████████▊          | 210688/338253 [00:25<00:14, 8648.95it/s]"
     ]
    },
    {
     "name": "stderr",
     "output_type": "stream",
     "text": [
      "\r",
      "Downloading Dataset Version Zip in ../dataset/plat-kendaraan/ to yolov8::  63%|████████████████▉          | 211632/338253 [00:25<00:14, 8658.70it/s]"
     ]
    },
    {
     "name": "stderr",
     "output_type": "stream",
     "text": [
      "\r",
      "Downloading Dataset Version Zip in ../dataset/plat-kendaraan/ to yolov8::  63%|████████████████▉          | 212608/338253 [00:26<00:14, 8961.76it/s]"
     ]
    },
    {
     "name": "stderr",
     "output_type": "stream",
     "text": [
      "\r",
      "Downloading Dataset Version Zip in ../dataset/plat-kendaraan/ to yolov8::  63%|█████████████████          | 213536/338253 [00:26<00:13, 9012.20it/s]"
     ]
    },
    {
     "name": "stderr",
     "output_type": "stream",
     "text": [
      "\r",
      "Downloading Dataset Version Zip in ../dataset/plat-kendaraan/ to yolov8::  63%|█████████████████          | 214448/338253 [00:26<00:13, 9021.58it/s]"
     ]
    },
    {
     "name": "stderr",
     "output_type": "stream",
     "text": [
      "\r",
      "Downloading Dataset Version Zip in ../dataset/plat-kendaraan/ to yolov8::  64%|█████████████████▏         | 215360/338253 [00:26<00:13, 9044.65it/s]"
     ]
    },
    {
     "name": "stderr",
     "output_type": "stream",
     "text": [
      "\r",
      "Downloading Dataset Version Zip in ../dataset/plat-kendaraan/ to yolov8::  64%|█████████████████▎         | 216288/338253 [00:26<00:13, 9068.55it/s]"
     ]
    },
    {
     "name": "stderr",
     "output_type": "stream",
     "text": [
      "\r",
      "Downloading Dataset Version Zip in ../dataset/plat-kendaraan/ to yolov8::  64%|█████████████████▎         | 217197/338253 [00:26<00:13, 9061.80it/s]"
     ]
    },
    {
     "name": "stderr",
     "output_type": "stream",
     "text": [
      "\r",
      "Downloading Dataset Version Zip in ../dataset/plat-kendaraan/ to yolov8::  64%|█████████████████▍         | 218106/338253 [00:26<00:13, 9069.99it/s]"
     ]
    },
    {
     "name": "stderr",
     "output_type": "stream",
     "text": [
      "\r",
      "Downloading Dataset Version Zip in ../dataset/plat-kendaraan/ to yolov8::  65%|█████████████████▍         | 219014/338253 [00:26<00:16, 7118.85it/s]"
     ]
    },
    {
     "name": "stderr",
     "output_type": "stream",
     "text": [
      "\r",
      "Downloading Dataset Version Zip in ../dataset/plat-kendaraan/ to yolov8::  65%|█████████████████▌         | 219792/338253 [00:26<00:18, 6498.88it/s]"
     ]
    },
    {
     "name": "stderr",
     "output_type": "stream",
     "text": [
      "\r",
      "Downloading Dataset Version Zip in ../dataset/plat-kendaraan/ to yolov8::  65%|█████████████████▌         | 220688/338253 [00:27<00:16, 7091.91it/s]"
     ]
    },
    {
     "name": "stderr",
     "output_type": "stream",
     "text": [
      "\r",
      "Downloading Dataset Version Zip in ../dataset/plat-kendaraan/ to yolov8::  65%|█████████████████▋         | 221448/338253 [00:27<00:16, 7017.68it/s]"
     ]
    },
    {
     "name": "stderr",
     "output_type": "stream",
     "text": [
      "\r",
      "Downloading Dataset Version Zip in ../dataset/plat-kendaraan/ to yolov8::  66%|█████████████████▊         | 222400/338253 [00:27<00:15, 7662.07it/s]"
     ]
    },
    {
     "name": "stderr",
     "output_type": "stream",
     "text": [
      "\r",
      "Downloading Dataset Version Zip in ../dataset/plat-kendaraan/ to yolov8::  66%|█████████████████▊         | 223344/338253 [00:27<00:14, 8104.45it/s]"
     ]
    },
    {
     "name": "stderr",
     "output_type": "stream",
     "text": [
      "\r",
      "Downloading Dataset Version Zip in ../dataset/plat-kendaraan/ to yolov8::  66%|█████████████████▉         | 224240/338253 [00:27<00:13, 8307.96it/s]"
     ]
    },
    {
     "name": "stderr",
     "output_type": "stream",
     "text": [
      "\r",
      "Downloading Dataset Version Zip in ../dataset/plat-kendaraan/ to yolov8::  67%|█████████████████▉         | 225152/338253 [00:27<00:13, 8509.61it/s]"
     ]
    },
    {
     "name": "stderr",
     "output_type": "stream",
     "text": [
      "\r",
      "Downloading Dataset Version Zip in ../dataset/plat-kendaraan/ to yolov8::  67%|██████████████████         | 226068/338253 [00:27<00:12, 8696.82it/s]"
     ]
    },
    {
     "name": "stderr",
     "output_type": "stream",
     "text": [
      "\r",
      "Downloading Dataset Version Zip in ../dataset/plat-kendaraan/ to yolov8::  67%|██████████████████         | 226992/338253 [00:27<00:12, 8804.98it/s]"
     ]
    },
    {
     "name": "stderr",
     "output_type": "stream",
     "text": [
      "\r",
      "Downloading Dataset Version Zip in ../dataset/plat-kendaraan/ to yolov8::  67%|██████████████████▏        | 227904/338253 [00:27<00:12, 8864.29it/s]"
     ]
    },
    {
     "name": "stderr",
     "output_type": "stream",
     "text": [
      "\r",
      "Downloading Dataset Version Zip in ../dataset/plat-kendaraan/ to yolov8::  68%|██████████████████▎        | 228848/338253 [00:27<00:12, 8978.53it/s]"
     ]
    },
    {
     "name": "stderr",
     "output_type": "stream",
     "text": [
      "\r",
      "Downloading Dataset Version Zip in ../dataset/plat-kendaraan/ to yolov8::  68%|██████████████████▎        | 229750/338253 [00:28<00:12, 8761.93it/s]"
     ]
    },
    {
     "name": "stderr",
     "output_type": "stream",
     "text": [
      "\r",
      "Downloading Dataset Version Zip in ../dataset/plat-kendaraan/ to yolov8::  68%|██████████████████▍        | 230720/338253 [00:28<00:11, 9028.40it/s]"
     ]
    },
    {
     "name": "stderr",
     "output_type": "stream",
     "text": [
      "\r",
      "Downloading Dataset Version Zip in ../dataset/plat-kendaraan/ to yolov8::  68%|██████████████████▍        | 231627/338253 [00:28<00:12, 8843.86it/s]"
     ]
    },
    {
     "name": "stderr",
     "output_type": "stream",
     "text": [
      "\r",
      "Downloading Dataset Version Zip in ../dataset/plat-kendaraan/ to yolov8::  69%|██████████████████▌        | 232515/338253 [00:28<00:11, 8811.98it/s]"
     ]
    },
    {
     "name": "stderr",
     "output_type": "stream",
     "text": [
      "\r",
      "Downloading Dataset Version Zip in ../dataset/plat-kendaraan/ to yolov8::  69%|██████████████████▋        | 233440/338253 [00:28<00:11, 8919.59it/s]"
     ]
    },
    {
     "name": "stderr",
     "output_type": "stream",
     "text": [
      "\r",
      "Downloading Dataset Version Zip in ../dataset/plat-kendaraan/ to yolov8::  69%|██████████████████▋        | 234368/338253 [00:28<00:11, 8996.73it/s]"
     ]
    },
    {
     "name": "stderr",
     "output_type": "stream",
     "text": [
      "\r",
      "Downloading Dataset Version Zip in ../dataset/plat-kendaraan/ to yolov8::  70%|██████████████████▊        | 235269/338253 [00:28<00:11, 8960.12it/s]"
     ]
    },
    {
     "name": "stderr",
     "output_type": "stream",
     "text": [
      "\r",
      "Downloading Dataset Version Zip in ../dataset/plat-kendaraan/ to yolov8::  70%|██████████████████▊        | 236166/338253 [00:28<00:11, 8828.21it/s]"
     ]
    },
    {
     "name": "stderr",
     "output_type": "stream",
     "text": [
      "\r",
      "Downloading Dataset Version Zip in ../dataset/plat-kendaraan/ to yolov8::  70%|██████████████████▉        | 237072/338253 [00:28<00:11, 8867.31it/s]"
     ]
    },
    {
     "name": "stderr",
     "output_type": "stream",
     "text": [
      "\r",
      "Downloading Dataset Version Zip in ../dataset/plat-kendaraan/ to yolov8::  70%|██████████████████▉        | 237968/338253 [00:28<00:11, 8841.90it/s]"
     ]
    },
    {
     "name": "stderr",
     "output_type": "stream",
     "text": [
      "\r",
      "Downloading Dataset Version Zip in ../dataset/plat-kendaraan/ to yolov8::  71%|███████████████████        | 238880/338253 [00:29<00:11, 8890.80it/s]"
     ]
    },
    {
     "name": "stderr",
     "output_type": "stream",
     "text": [
      "\r",
      "Downloading Dataset Version Zip in ../dataset/plat-kendaraan/ to yolov8::  71%|███████████████████▏       | 239808/338253 [00:29<00:10, 8950.05it/s]"
     ]
    },
    {
     "name": "stderr",
     "output_type": "stream",
     "text": [
      "\r",
      "Downloading Dataset Version Zip in ../dataset/plat-kendaraan/ to yolov8::  71%|███████████████████▏       | 240704/338253 [00:29<00:10, 8882.80it/s]"
     ]
    },
    {
     "name": "stderr",
     "output_type": "stream",
     "text": [
      "\r",
      "Downloading Dataset Version Zip in ../dataset/plat-kendaraan/ to yolov8::  71%|███████████████████▎       | 241648/338253 [00:29<00:10, 9025.97it/s]"
     ]
    },
    {
     "name": "stderr",
     "output_type": "stream",
     "text": [
      "\r",
      "Downloading Dataset Version Zip in ../dataset/plat-kendaraan/ to yolov8::  72%|███████████████████▎       | 242560/338253 [00:29<00:10, 9014.14it/s]"
     ]
    },
    {
     "name": "stderr",
     "output_type": "stream",
     "text": [
      "\r",
      "Downloading Dataset Version Zip in ../dataset/plat-kendaraan/ to yolov8::  72%|███████████████████▍       | 243462/338253 [00:29<00:10, 8894.51it/s]"
     ]
    },
    {
     "name": "stderr",
     "output_type": "stream",
     "text": [
      "\r",
      "Downloading Dataset Version Zip in ../dataset/plat-kendaraan/ to yolov8::  72%|███████████████████▌       | 244432/338253 [00:29<00:10, 9074.40it/s]"
     ]
    },
    {
     "name": "stderr",
     "output_type": "stream",
     "text": [
      "\r",
      "Downloading Dataset Version Zip in ../dataset/plat-kendaraan/ to yolov8::  73%|███████████████████▌       | 245360/338253 [00:29<00:10, 9127.16it/s]"
     ]
    },
    {
     "name": "stderr",
     "output_type": "stream",
     "text": [
      "\r",
      "Downloading Dataset Version Zip in ../dataset/plat-kendaraan/ to yolov8::  73%|███████████████████▋       | 246274/338253 [00:29<00:11, 7979.18it/s]"
     ]
    },
    {
     "name": "stderr",
     "output_type": "stream",
     "text": [
      "\r",
      "Downloading Dataset Version Zip in ../dataset/plat-kendaraan/ to yolov8::  73%|███████████████████▋       | 247098/338253 [00:30<00:12, 7552.92it/s]"
     ]
    },
    {
     "name": "stderr",
     "output_type": "stream",
     "text": [
      "\r",
      "Downloading Dataset Version Zip in ../dataset/plat-kendaraan/ to yolov8::  73%|███████████████████▊       | 248144/338253 [00:30<00:11, 7722.92it/s]"
     ]
    },
    {
     "name": "stderr",
     "output_type": "stream",
     "text": [
      "\r",
      "Downloading Dataset Version Zip in ../dataset/plat-kendaraan/ to yolov8::  74%|███████████████████▉       | 249312/338253 [00:30<00:10, 8571.74it/s]"
     ]
    },
    {
     "name": "stderr",
     "output_type": "stream",
     "text": [
      "\r",
      "Downloading Dataset Version Zip in ../dataset/plat-kendaraan/ to yolov8::  74%|███████████████████▉       | 250288/338253 [00:30<00:09, 8864.65it/s]"
     ]
    },
    {
     "name": "stderr",
     "output_type": "stream",
     "text": [
      "\r",
      "Downloading Dataset Version Zip in ../dataset/plat-kendaraan/ to yolov8::  74%|████████████████████       | 251216/338253 [00:30<00:09, 8961.92it/s]"
     ]
    },
    {
     "name": "stderr",
     "output_type": "stream",
     "text": [
      "\r",
      "Downloading Dataset Version Zip in ../dataset/plat-kendaraan/ to yolov8::  75%|████████████████████▏      | 252144/338253 [00:30<00:09, 9011.25it/s]"
     ]
    },
    {
     "name": "stderr",
     "output_type": "stream",
     "text": [
      "\r",
      "Downloading Dataset Version Zip in ../dataset/plat-kendaraan/ to yolov8::  75%|████████████████████▏      | 253054/338253 [00:30<00:09, 9009.42it/s]"
     ]
    },
    {
     "name": "stderr",
     "output_type": "stream",
     "text": [
      "\r",
      "Downloading Dataset Version Zip in ../dataset/plat-kendaraan/ to yolov8::  75%|████████████████████▎      | 253961/338253 [00:30<00:09, 8991.80it/s]"
     ]
    },
    {
     "name": "stderr",
     "output_type": "stream",
     "text": [
      "\r",
      "Downloading Dataset Version Zip in ../dataset/plat-kendaraan/ to yolov8::  75%|████████████████████▎      | 254865/338253 [00:30<00:10, 8052.54it/s]"
     ]
    },
    {
     "name": "stderr",
     "output_type": "stream",
     "text": [
      "\r",
      "Downloading Dataset Version Zip in ../dataset/plat-kendaraan/ to yolov8::  76%|████████████████████▍      | 255691/338253 [00:31<00:11, 7133.00it/s]"
     ]
    },
    {
     "name": "stderr",
     "output_type": "stream",
     "text": [
      "\r",
      "Downloading Dataset Version Zip in ../dataset/plat-kendaraan/ to yolov8::  76%|████████████████████▍      | 256656/338253 [00:31<00:10, 7656.96it/s]"
     ]
    },
    {
     "name": "stderr",
     "output_type": "stream",
     "text": [
      "\r",
      "Downloading Dataset Version Zip in ../dataset/plat-kendaraan/ to yolov8::  76%|████████████████████▌      | 257632/338253 [00:31<00:09, 8198.74it/s]"
     ]
    },
    {
     "name": "stderr",
     "output_type": "stream",
     "text": [
      "\r",
      "Downloading Dataset Version Zip in ../dataset/plat-kendaraan/ to yolov8::  76%|████████████████████▋      | 258560/338253 [00:31<00:09, 8473.72it/s]"
     ]
    },
    {
     "name": "stderr",
     "output_type": "stream",
     "text": [
      "\r",
      "Downloading Dataset Version Zip in ../dataset/plat-kendaraan/ to yolov8::  77%|████████████████████▋      | 259472/338253 [00:31<00:09, 8618.52it/s]"
     ]
    },
    {
     "name": "stderr",
     "output_type": "stream",
     "text": [
      "\r",
      "Downloading Dataset Version Zip in ../dataset/plat-kendaraan/ to yolov8::  77%|████████████████████▊      | 260384/338253 [00:31<00:08, 8723.08it/s]"
     ]
    },
    {
     "name": "stderr",
     "output_type": "stream",
     "text": [
      "\r",
      "Downloading Dataset Version Zip in ../dataset/plat-kendaraan/ to yolov8::  77%|████████████████████▊      | 261296/338253 [00:31<00:08, 8798.90it/s]"
     ]
    },
    {
     "name": "stderr",
     "output_type": "stream",
     "text": [
      "\r",
      "Downloading Dataset Version Zip in ../dataset/plat-kendaraan/ to yolov8::  78%|████████████████████▉      | 262224/338253 [00:31<00:08, 8906.88it/s]"
     ]
    },
    {
     "name": "stderr",
     "output_type": "stream",
     "text": [
      "\r",
      "Downloading Dataset Version Zip in ../dataset/plat-kendaraan/ to yolov8::  78%|█████████████████████      | 263168/338253 [00:31<00:08, 9042.40it/s]"
     ]
    },
    {
     "name": "stderr",
     "output_type": "stream",
     "text": [
      "\r",
      "Downloading Dataset Version Zip in ../dataset/plat-kendaraan/ to yolov8::  78%|█████████████████████      | 264080/338253 [00:32<00:08, 9026.35it/s]"
     ]
    },
    {
     "name": "stderr",
     "output_type": "stream",
     "text": [
      "\r",
      "Downloading Dataset Version Zip in ../dataset/plat-kendaraan/ to yolov8::  78%|█████████████████████▏     | 264986/338253 [00:32<00:08, 9006.94it/s]"
     ]
    },
    {
     "name": "stderr",
     "output_type": "stream",
     "text": [
      "\r",
      "Downloading Dataset Version Zip in ../dataset/plat-kendaraan/ to yolov8::  79%|█████████████████████▏     | 265904/338253 [00:32<00:08, 9018.42it/s]"
     ]
    },
    {
     "name": "stderr",
     "output_type": "stream",
     "text": [
      "\r",
      "Downloading Dataset Version Zip in ../dataset/plat-kendaraan/ to yolov8::  79%|█████████████████████▎     | 266816/338253 [00:32<00:07, 9021.78it/s]"
     ]
    },
    {
     "name": "stderr",
     "output_type": "stream",
     "text": [
      "\r",
      "Downloading Dataset Version Zip in ../dataset/plat-kendaraan/ to yolov8::  79%|█████████████████████▎     | 267720/338253 [00:32<00:08, 8472.06it/s]"
     ]
    },
    {
     "name": "stderr",
     "output_type": "stream",
     "text": [
      "\r",
      "Downloading Dataset Version Zip in ../dataset/plat-kendaraan/ to yolov8::  79%|█████████████████████▍     | 268575/338253 [00:32<00:08, 8273.53it/s]"
     ]
    },
    {
     "name": "stderr",
     "output_type": "stream",
     "text": [
      "\r",
      "Downloading Dataset Version Zip in ../dataset/plat-kendaraan/ to yolov8::  80%|█████████████████████▌     | 269440/338253 [00:32<00:08, 8333.38it/s]"
     ]
    },
    {
     "name": "stderr",
     "output_type": "stream",
     "text": [
      "\r",
      "Downloading Dataset Version Zip in ../dataset/plat-kendaraan/ to yolov8::  80%|█████████████████████▌     | 270400/338253 [00:32<00:07, 8641.71it/s]"
     ]
    },
    {
     "name": "stderr",
     "output_type": "stream",
     "text": [
      "\r",
      "Downloading Dataset Version Zip in ../dataset/plat-kendaraan/ to yolov8::  80%|█████████████████████▋     | 271312/338253 [00:32<00:07, 8640.72it/s]"
     ]
    },
    {
     "name": "stderr",
     "output_type": "stream",
     "text": [
      "\r",
      "Downloading Dataset Version Zip in ../dataset/plat-kendaraan/ to yolov8::  80%|█████████████████████▋     | 272288/338253 [00:32<00:07, 8926.20it/s]"
     ]
    },
    {
     "name": "stderr",
     "output_type": "stream",
     "text": [
      "\r",
      "Downloading Dataset Version Zip in ../dataset/plat-kendaraan/ to yolov8::  81%|█████████████████████▊     | 273184/338253 [00:33<00:08, 7561.13it/s]"
     ]
    },
    {
     "name": "stderr",
     "output_type": "stream",
     "text": [
      "\r",
      "Downloading Dataset Version Zip in ../dataset/plat-kendaraan/ to yolov8::  81%|█████████████████████▊     | 273977/338253 [00:33<00:11, 5654.06it/s]"
     ]
    },
    {
     "name": "stderr",
     "output_type": "stream",
     "text": [
      "\r",
      "Downloading Dataset Version Zip in ../dataset/plat-kendaraan/ to yolov8::  81%|█████████████████████▉     | 275024/338253 [00:33<00:09, 6658.83it/s]"
     ]
    },
    {
     "name": "stderr",
     "output_type": "stream",
     "text": [
      "\r",
      "Downloading Dataset Version Zip in ../dataset/plat-kendaraan/ to yolov8::  82%|██████████████████████     | 275952/338253 [00:33<00:08, 7256.29it/s]"
     ]
    },
    {
     "name": "stderr",
     "output_type": "stream",
     "text": [
      "\r",
      "Downloading Dataset Version Zip in ../dataset/plat-kendaraan/ to yolov8::  82%|██████████████████████     | 276864/338253 [00:33<00:07, 7721.39it/s]"
     ]
    },
    {
     "name": "stderr",
     "output_type": "stream",
     "text": [
      "\r",
      "Downloading Dataset Version Zip in ../dataset/plat-kendaraan/ to yolov8::  82%|██████████████████████▏    | 277792/338253 [00:33<00:07, 8086.74it/s]"
     ]
    },
    {
     "name": "stderr",
     "output_type": "stream",
     "text": [
      "\r",
      "Downloading Dataset Version Zip in ../dataset/plat-kendaraan/ to yolov8::  82%|██████████████████████▏    | 278720/338253 [00:33<00:07, 8369.31it/s]"
     ]
    },
    {
     "name": "stderr",
     "output_type": "stream",
     "text": [
      "\r",
      "Downloading Dataset Version Zip in ../dataset/plat-kendaraan/ to yolov8::  83%|██████████████████████▎    | 279632/338253 [00:33<00:06, 8541.94it/s]"
     ]
    },
    {
     "name": "stderr",
     "output_type": "stream",
     "text": [
      "\r",
      "Downloading Dataset Version Zip in ../dataset/plat-kendaraan/ to yolov8::  83%|██████████████████████▍    | 280544/338253 [00:34<00:06, 8684.16it/s]"
     ]
    },
    {
     "name": "stderr",
     "output_type": "stream",
     "text": [
      "\r",
      "Downloading Dataset Version Zip in ../dataset/plat-kendaraan/ to yolov8::  83%|██████████████████████▍    | 281456/338253 [00:34<00:06, 8808.10it/s]"
     ]
    },
    {
     "name": "stderr",
     "output_type": "stream",
     "text": [
      "\r",
      "Downloading Dataset Version Zip in ../dataset/plat-kendaraan/ to yolov8::  83%|██████████████████████▌    | 282368/338253 [00:34<00:06, 8877.29it/s]"
     ]
    },
    {
     "name": "stderr",
     "output_type": "stream",
     "text": [
      "\r",
      "Downloading Dataset Version Zip in ../dataset/plat-kendaraan/ to yolov8::  84%|██████████████████████▌    | 283280/338253 [00:34<00:06, 8938.47it/s]"
     ]
    },
    {
     "name": "stderr",
     "output_type": "stream",
     "text": [
      "\r",
      "Downloading Dataset Version Zip in ../dataset/plat-kendaraan/ to yolov8::  84%|██████████████████████▋    | 284224/338253 [00:34<00:05, 9037.32it/s]"
     ]
    },
    {
     "name": "stderr",
     "output_type": "stream",
     "text": [
      "\r",
      "Downloading Dataset Version Zip in ../dataset/plat-kendaraan/ to yolov8::  84%|██████████████████████▊    | 285134/338253 [00:34<00:05, 8998.15it/s]"
     ]
    },
    {
     "name": "stderr",
     "output_type": "stream",
     "text": [
      "\r",
      "Downloading Dataset Version Zip in ../dataset/plat-kendaraan/ to yolov8::  85%|██████████████████████▊    | 286038/338253 [00:34<00:05, 8986.21it/s]"
     ]
    },
    {
     "name": "stderr",
     "output_type": "stream",
     "text": [
      "\r",
      "Downloading Dataset Version Zip in ../dataset/plat-kendaraan/ to yolov8::  85%|██████████████████████▉    | 286976/338253 [00:34<00:05, 9099.20it/s]"
     ]
    },
    {
     "name": "stderr",
     "output_type": "stream",
     "text": [
      "\r",
      "Downloading Dataset Version Zip in ../dataset/plat-kendaraan/ to yolov8::  85%|██████████████████████▉    | 287888/338253 [00:34<00:05, 9066.10it/s]"
     ]
    },
    {
     "name": "stderr",
     "output_type": "stream",
     "text": [
      "\r",
      "Downloading Dataset Version Zip in ../dataset/plat-kendaraan/ to yolov8::  85%|███████████████████████    | 288796/338253 [00:35<00:05, 9039.21it/s]"
     ]
    },
    {
     "name": "stderr",
     "output_type": "stream",
     "text": [
      "\r",
      "Downloading Dataset Version Zip in ../dataset/plat-kendaraan/ to yolov8::  86%|███████████████████████    | 289701/338253 [00:35<00:05, 8931.69it/s]"
     ]
    },
    {
     "name": "stderr",
     "output_type": "stream",
     "text": [
      "\r",
      "Downloading Dataset Version Zip in ../dataset/plat-kendaraan/ to yolov8::  86%|███████████████████████▏   | 290656/338253 [00:35<00:05, 9065.07it/s]"
     ]
    },
    {
     "name": "stderr",
     "output_type": "stream",
     "text": [
      "\r",
      "Downloading Dataset Version Zip in ../dataset/plat-kendaraan/ to yolov8::  86%|███████████████████████▎   | 291564/338253 [00:35<00:05, 8323.57it/s]"
     ]
    },
    {
     "name": "stderr",
     "output_type": "stream",
     "text": [
      "\r",
      "Downloading Dataset Version Zip in ../dataset/plat-kendaraan/ to yolov8::  86%|███████████████████████▎   | 292409/338253 [00:35<00:05, 7654.14it/s]"
     ]
    },
    {
     "name": "stderr",
     "output_type": "stream",
     "text": [
      "\r",
      "Downloading Dataset Version Zip in ../dataset/plat-kendaraan/ to yolov8::  87%|███████████████████████▍   | 293376/338253 [00:35<00:05, 8172.67it/s]"
     ]
    },
    {
     "name": "stderr",
     "output_type": "stream",
     "text": [
      "\r",
      "Downloading Dataset Version Zip in ../dataset/plat-kendaraan/ to yolov8::  87%|███████████████████████▍   | 294288/338253 [00:35<00:05, 8395.39it/s]"
     ]
    },
    {
     "name": "stderr",
     "output_type": "stream",
     "text": [
      "\r",
      "Downloading Dataset Version Zip in ../dataset/plat-kendaraan/ to yolov8::  87%|███████████████████████▌   | 295216/338253 [00:35<00:05, 8605.24it/s]"
     ]
    },
    {
     "name": "stderr",
     "output_type": "stream",
     "text": [
      "\r",
      "Downloading Dataset Version Zip in ../dataset/plat-kendaraan/ to yolov8::  88%|███████████████████████▋   | 296088/338253 [00:35<00:05, 8136.34it/s]"
     ]
    },
    {
     "name": "stderr",
     "output_type": "stream",
     "text": [
      "\r",
      "Downloading Dataset Version Zip in ../dataset/plat-kendaraan/ to yolov8::  88%|███████████████████████▋   | 296914/338253 [00:36<00:05, 8080.89it/s]"
     ]
    },
    {
     "name": "stderr",
     "output_type": "stream",
     "text": [
      "\r",
      "Downloading Dataset Version Zip in ../dataset/plat-kendaraan/ to yolov8::  88%|███████████████████████▊   | 297992/338253 [00:36<00:04, 8842.01it/s]"
     ]
    },
    {
     "name": "stderr",
     "output_type": "stream",
     "text": [
      "\r",
      "Downloading Dataset Version Zip in ../dataset/plat-kendaraan/ to yolov8::  88%|███████████████████████▊   | 298896/338253 [00:36<00:04, 8862.07it/s]"
     ]
    },
    {
     "name": "stderr",
     "output_type": "stream",
     "text": [
      "\r",
      "Downloading Dataset Version Zip in ../dataset/plat-kendaraan/ to yolov8::  89%|███████████████████████▉   | 299808/338253 [00:36<00:04, 8898.85it/s]"
     ]
    },
    {
     "name": "stderr",
     "output_type": "stream",
     "text": [
      "\r",
      "Downloading Dataset Version Zip in ../dataset/plat-kendaraan/ to yolov8::  89%|████████████████████████   | 300704/338253 [00:36<00:04, 8869.78it/s]"
     ]
    },
    {
     "name": "stderr",
     "output_type": "stream",
     "text": [
      "\r",
      "Downloading Dataset Version Zip in ../dataset/plat-kendaraan/ to yolov8::  89%|████████████████████████   | 301632/338253 [00:36<00:04, 8975.85it/s]"
     ]
    },
    {
     "name": "stderr",
     "output_type": "stream",
     "text": [
      "\r",
      "Downloading Dataset Version Zip in ../dataset/plat-kendaraan/ to yolov8::  89%|████████████████████████▏  | 302576/338253 [00:36<00:03, 9074.29it/s]"
     ]
    },
    {
     "name": "stderr",
     "output_type": "stream",
     "text": [
      "\r",
      "Downloading Dataset Version Zip in ../dataset/plat-kendaraan/ to yolov8::  90%|████████████████████████▏  | 303504/338253 [00:36<00:03, 9084.67it/s]"
     ]
    },
    {
     "name": "stderr",
     "output_type": "stream",
     "text": [
      "\r",
      "Downloading Dataset Version Zip in ../dataset/plat-kendaraan/ to yolov8::  90%|████████████████████████▎  | 304416/338253 [00:36<00:03, 9055.28it/s]"
     ]
    },
    {
     "name": "stderr",
     "output_type": "stream",
     "text": [
      "\r",
      "Downloading Dataset Version Zip in ../dataset/plat-kendaraan/ to yolov8::  90%|████████████████████████▎  | 305323/338253 [00:36<00:03, 9058.14it/s]"
     ]
    },
    {
     "name": "stderr",
     "output_type": "stream",
     "text": [
      "\r",
      "Downloading Dataset Version Zip in ../dataset/plat-kendaraan/ to yolov8::  91%|████████████████████████▍  | 306230/338253 [00:37<00:03, 8963.46it/s]"
     ]
    },
    {
     "name": "stderr",
     "output_type": "stream",
     "text": [
      "\r",
      "Downloading Dataset Version Zip in ../dataset/plat-kendaraan/ to yolov8::  91%|████████████████████████▌  | 307152/338253 [00:37<00:03, 8985.39it/s]"
     ]
    },
    {
     "name": "stderr",
     "output_type": "stream",
     "text": [
      "\r",
      "Downloading Dataset Version Zip in ../dataset/plat-kendaraan/ to yolov8::  91%|████████████████████████▌  | 308051/338253 [00:37<00:03, 7886.36it/s]"
     ]
    },
    {
     "name": "stderr",
     "output_type": "stream",
     "text": [
      "\r",
      "Downloading Dataset Version Zip in ../dataset/plat-kendaraan/ to yolov8::  91%|████████████████████████▋  | 309056/338253 [00:37<00:03, 8456.69it/s]"
     ]
    },
    {
     "name": "stderr",
     "output_type": "stream",
     "text": [
      "\r",
      "Downloading Dataset Version Zip in ../dataset/plat-kendaraan/ to yolov8::  92%|████████████████████████▋  | 309984/338253 [00:37<00:03, 8576.73it/s]"
     ]
    },
    {
     "name": "stderr",
     "output_type": "stream",
     "text": [
      "\r",
      "Downloading Dataset Version Zip in ../dataset/plat-kendaraan/ to yolov8::  92%|████████████████████████▊  | 310912/338253 [00:37<00:03, 8724.66it/s]"
     ]
    },
    {
     "name": "stderr",
     "output_type": "stream",
     "text": [
      "\r",
      "Downloading Dataset Version Zip in ../dataset/plat-kendaraan/ to yolov8::  92%|████████████████████████▉  | 311840/338253 [00:37<00:02, 8865.06it/s]"
     ]
    },
    {
     "name": "stderr",
     "output_type": "stream",
     "text": [
      "\r",
      "Downloading Dataset Version Zip in ../dataset/plat-kendaraan/ to yolov8::  92%|████████████████████████▉  | 312751/338253 [00:37<00:02, 8935.80it/s]"
     ]
    },
    {
     "name": "stderr",
     "output_type": "stream",
     "text": [
      "\r",
      "Downloading Dataset Version Zip in ../dataset/plat-kendaraan/ to yolov8::  93%|█████████████████████████  | 313664/338253 [00:37<00:02, 8747.91it/s]"
     ]
    },
    {
     "name": "stderr",
     "output_type": "stream",
     "text": [
      "\r",
      "Downloading Dataset Version Zip in ../dataset/plat-kendaraan/ to yolov8::  93%|█████████████████████████  | 314656/338253 [00:37<00:02, 9034.84it/s]"
     ]
    },
    {
     "name": "stderr",
     "output_type": "stream",
     "text": [
      "\r",
      "Downloading Dataset Version Zip in ../dataset/plat-kendaraan/ to yolov8::  93%|█████████████████████████▏ | 315564/338253 [00:38<00:02, 8862.06it/s]"
     ]
    },
    {
     "name": "stderr",
     "output_type": "stream",
     "text": [
      "\r",
      "Downloading Dataset Version Zip in ../dataset/plat-kendaraan/ to yolov8::  94%|█████████████████████████▎ | 316560/338253 [00:38<00:02, 9119.82it/s]"
     ]
    },
    {
     "name": "stderr",
     "output_type": "stream",
     "text": [
      "\r",
      "Downloading Dataset Version Zip in ../dataset/plat-kendaraan/ to yolov8::  94%|█████████████████████████▎ | 317475/338253 [00:38<00:02, 8966.17it/s]"
     ]
    },
    {
     "name": "stderr",
     "output_type": "stream",
     "text": [
      "\r",
      "Downloading Dataset Version Zip in ../dataset/plat-kendaraan/ to yolov8::  94%|█████████████████████████▍ | 318384/338253 [00:38<00:02, 8980.81it/s]"
     ]
    },
    {
     "name": "stderr",
     "output_type": "stream",
     "text": [
      "\r",
      "Downloading Dataset Version Zip in ../dataset/plat-kendaraan/ to yolov8::  94%|█████████████████████████▍ | 319344/338253 [00:38<00:02, 9124.50it/s]"
     ]
    },
    {
     "name": "stderr",
     "output_type": "stream",
     "text": [
      "\r",
      "Downloading Dataset Version Zip in ../dataset/plat-kendaraan/ to yolov8::  95%|█████████████████████████▌ | 320258/338253 [00:38<00:01, 9095.59it/s]"
     ]
    },
    {
     "name": "stderr",
     "output_type": "stream",
     "text": [
      "\r",
      "Downloading Dataset Version Zip in ../dataset/plat-kendaraan/ to yolov8::  95%|█████████████████████████▋ | 321184/338253 [00:38<00:01, 9090.17it/s]"
     ]
    },
    {
     "name": "stderr",
     "output_type": "stream",
     "text": [
      "\r",
      "Downloading Dataset Version Zip in ../dataset/plat-kendaraan/ to yolov8::  95%|█████████████████████████▋ | 322112/338253 [00:38<00:01, 9111.08it/s]"
     ]
    },
    {
     "name": "stderr",
     "output_type": "stream",
     "text": [
      "\r",
      "Downloading Dataset Version Zip in ../dataset/plat-kendaraan/ to yolov8::  96%|█████████████████████████▊ | 323040/338253 [00:38<00:01, 9157.10it/s]"
     ]
    },
    {
     "name": "stderr",
     "output_type": "stream",
     "text": [
      "\r",
      "Downloading Dataset Version Zip in ../dataset/plat-kendaraan/ to yolov8::  96%|█████████████████████████▊ | 323957/338253 [00:39<00:01, 9107.21it/s]"
     ]
    },
    {
     "name": "stderr",
     "output_type": "stream",
     "text": [
      "\r",
      "Downloading Dataset Version Zip in ../dataset/plat-kendaraan/ to yolov8::  96%|█████████████████████████▉ | 324869/338253 [00:39<00:01, 9081.21it/s]"
     ]
    },
    {
     "name": "stderr",
     "output_type": "stream",
     "text": [
      "\r",
      "Downloading Dataset Version Zip in ../dataset/plat-kendaraan/ to yolov8::  96%|██████████████████████████ | 325792/338253 [00:39<00:01, 9072.17it/s]"
     ]
    },
    {
     "name": "stderr",
     "output_type": "stream",
     "text": [
      "\r",
      "Downloading Dataset Version Zip in ../dataset/plat-kendaraan/ to yolov8::  97%|██████████████████████████ | 326700/338253 [00:39<00:01, 7122.56it/s]"
     ]
    },
    {
     "name": "stderr",
     "output_type": "stream",
     "text": [
      "\r",
      "Downloading Dataset Version Zip in ../dataset/plat-kendaraan/ to yolov8::  97%|██████████████████████████▏| 327648/338253 [00:39<00:01, 7679.51it/s]"
     ]
    },
    {
     "name": "stderr",
     "output_type": "stream",
     "text": [
      "\r",
      "Downloading Dataset Version Zip in ../dataset/plat-kendaraan/ to yolov8::  97%|██████████████████████████▏| 328472/338253 [00:39<00:01, 6925.15it/s]"
     ]
    },
    {
     "name": "stderr",
     "output_type": "stream",
     "text": [
      "\r",
      "Downloading Dataset Version Zip in ../dataset/plat-kendaraan/ to yolov8::  97%|██████████████████████████▎| 329584/338253 [00:39<00:01, 7936.48it/s]"
     ]
    },
    {
     "name": "stderr",
     "output_type": "stream",
     "text": [
      "\r",
      "Downloading Dataset Version Zip in ../dataset/plat-kendaraan/ to yolov8::  98%|██████████████████████████▍| 330496/338253 [00:39<00:00, 8077.61it/s]"
     ]
    },
    {
     "name": "stderr",
     "output_type": "stream",
     "text": [
      "\r",
      "Downloading Dataset Version Zip in ../dataset/plat-kendaraan/ to yolov8::  98%|██████████████████████████▍| 331504/338253 [00:39<00:00, 8579.33it/s]"
     ]
    },
    {
     "name": "stderr",
     "output_type": "stream",
     "text": [
      "\r",
      "Downloading Dataset Version Zip in ../dataset/plat-kendaraan/ to yolov8::  98%|██████████████████████████▌| 332395/338253 [00:40<00:00, 8563.00it/s]"
     ]
    },
    {
     "name": "stderr",
     "output_type": "stream",
     "text": [
      "\r",
      "Downloading Dataset Version Zip in ../dataset/plat-kendaraan/ to yolov8::  99%|██████████████████████████▌| 333275/338253 [00:40<00:00, 7492.05it/s]"
     ]
    },
    {
     "name": "stderr",
     "output_type": "stream",
     "text": [
      "\r",
      "Downloading Dataset Version Zip in ../dataset/plat-kendaraan/ to yolov8::  99%|██████████████████████████▋| 334288/338253 [00:40<00:00, 8167.38it/s]"
     ]
    },
    {
     "name": "stderr",
     "output_type": "stream",
     "text": [
      "\r",
      "Downloading Dataset Version Zip in ../dataset/plat-kendaraan/ to yolov8::  99%|██████████████████████████▊| 335328/338253 [00:40<00:00, 8746.23it/s]"
     ]
    },
    {
     "name": "stderr",
     "output_type": "stream",
     "text": [
      "\r",
      "Downloading Dataset Version Zip in ../dataset/plat-kendaraan/ to yolov8::  99%|██████████████████████████▊| 336320/338253 [00:40<00:00, 9035.64it/s]"
     ]
    },
    {
     "name": "stderr",
     "output_type": "stream",
     "text": [
      "\r",
      "Downloading Dataset Version Zip in ../dataset/plat-kendaraan/ to yolov8:: 100%|██████████████████████████▉| 337249/338253 [00:40<00:00, 9008.50it/s]"
     ]
    },
    {
     "name": "stderr",
     "output_type": "stream",
     "text": [
      "\r",
      "Downloading Dataset Version Zip in ../dataset/plat-kendaraan/ to yolov8:: 100%|██████████████████████████▉| 338167/338253 [00:40<00:00, 9041.24it/s]"
     ]
    },
    {
     "name": "stderr",
     "output_type": "stream",
     "text": [
      "\r",
      "Downloading Dataset Version Zip in ../dataset/plat-kendaraan/ to yolov8:: 100%|███████████████████████████| 338253/338253 [00:40<00:00, 8302.97it/s]"
     ]
    },
    {
     "name": "stdout",
     "output_type": "stream",
     "text": [
      "\n"
     ]
    },
    {
     "name": "stderr",
     "output_type": "stream",
     "text": [
      "\n"
     ]
    },
    {
     "name": "stderr",
     "output_type": "stream",
     "text": [
      "\r",
      "Extracting Dataset Version Zip to ../dataset/plat-kendaraan/ in yolov8::   0%|                                            | 0/11118 [00:00<?, ?it/s]"
     ]
    },
    {
     "name": "stderr",
     "output_type": "stream",
     "text": [
      "\r",
      "Extracting Dataset Version Zip to ../dataset/plat-kendaraan/ in yolov8::   8%|██▋                             | 945/11118 [00:00<00:01, 9448.23it/s]"
     ]
    },
    {
     "name": "stderr",
     "output_type": "stream",
     "text": [
      "\r",
      "Extracting Dataset Version Zip to ../dataset/plat-kendaraan/ in yolov8::  17%|█████▎                         | 1890/11118 [00:00<00:01, 9165.23it/s]"
     ]
    },
    {
     "name": "stderr",
     "output_type": "stream",
     "text": [
      "\r",
      "Extracting Dataset Version Zip to ../dataset/plat-kendaraan/ in yolov8::  26%|███████▉                       | 2849/11118 [00:00<00:00, 9350.36it/s]"
     ]
    },
    {
     "name": "stderr",
     "output_type": "stream",
     "text": [
      "\r",
      "Extracting Dataset Version Zip to ../dataset/plat-kendaraan/ in yolov8::  34%|██████████▌                    | 3785/11118 [00:00<00:00, 9066.58it/s]"
     ]
    },
    {
     "name": "stderr",
     "output_type": "stream",
     "text": [
      "\r",
      "Extracting Dataset Version Zip to ../dataset/plat-kendaraan/ in yolov8::  45%|█████████████▍                | 4983/11118 [00:00<00:00, 10089.02it/s]"
     ]
    },
    {
     "name": "stderr",
     "output_type": "stream",
     "text": [
      "\r",
      "Extracting Dataset Version Zip to ../dataset/plat-kendaraan/ in yolov8::  76%|██████████████████████▊       | 8442/11118 [00:00<00:00, 18268.38it/s]"
     ]
    },
    {
     "name": "stderr",
     "output_type": "stream",
     "text": [
      "\r",
      "Extracting Dataset Version Zip to ../dataset/plat-kendaraan/ in yolov8::  98%|████████████████████████████▎| 10861/11118 [00:00<00:00, 20179.43it/s]"
     ]
    },
    {
     "name": "stderr",
     "output_type": "stream",
     "text": [
      "\r",
      "Extracting Dataset Version Zip to ../dataset/plat-kendaraan/ in yolov8:: 100%|█████████████████████████████| 11118/11118 [00:00<00:00, 15319.18it/s]"
     ]
    },
    {
     "name": "stdout",
     "output_type": "stream",
     "text": [
      "✅ Dataset downloaded to: /home/ciheul/license-plate-rafael-jonathan/license-plate-training/dataset/plat-kendaraan\n",
      "✅ Download verification successful\n"
     ]
    },
    {
     "name": "stderr",
     "output_type": "stream",
     "text": [
      "\n"
     ]
    }
   ],
   "source": [
    "import roboflow\n",
    "from pathlib import Path\n",
    "import os\n",
    "from dotenv import load_dotenv\n",
    "load_dotenv(Path(\"../.env\"))\n",
    "dataset_path = Path(\"../dataset/plat-kendaraan\")\n",
    "\n",
    "if dataset_path.exists() and (dataset_path / \"data.yaml\").exists():\n",
    "    print(\"✅ Dataset already exists, skipping download\")\n",
    "    print(f\"📁 Dataset location: {dataset_path.absolute()}\")\n",
    "    \n",
    "    yaml_file = dataset_path / \"data.yaml\"\n",
    "    if yaml_file.exists():\n",
    "        print(\"✅ Configuration file found\")\n",
    "        \n",
    "        # Check splits\n",
    "        splits = ['train', 'valid', 'test']\n",
    "        total_images = 0\n",
    "        \n",
    "        for split in splits:\n",
    "            images_dir = dataset_path / split / 'images'\n",
    "            labels_dir = dataset_path / split / 'labels'\n",
    "            \n",
    "            if images_dir.exists():\n",
    "                image_count = len(list(images_dir.glob('*.jpg'))) + len(list(images_dir.glob('*.png')))\n",
    "                label_count = len(list(labels_dir.glob('*.txt'))) if labels_dir.exists() else 0\n",
    "                total_images += image_count\n",
    "                print(f\"  {split.upper()}: {image_count} images, {label_count} labels\")\n",
    "        \n",
    "        print(f\"✅ Total dataset: {total_images} images ready for training\")\n",
    "    else:\n",
    "        print(\"⚠️  Configuration file missing, dataset may be incomplete\")\n",
    "        \n",
    "else:\n",
    "    print(\"📥 Dataset not found, downloading...\")\n",
    "    roboflow_api_key = os.getenv(\"ROBOFLOW_API_KEY\")\n",
    "    \n",
    "    if not roboflow_api_key:\n",
    "        print(\"❌ ROBOFLOW_API_KEY not found in .env file\")\n",
    "        print(\"Please add ROBOFLOW_API_KEY=your_api_key_here to your .env file\")\n",
    "    else:\n",
    "        print(\"✅ API key loaded from .env file\")\n",
    "        \n",
    "        roboflow.login()\n",
    "        rf = roboflow.Roboflow(api_key=roboflow_api_key)\n",
    "        project = rf.workspace(\"plat-kendaraan\").project(\"vehicle-and-license-plate\")\n",
    "        dataset = project.version(1).download(\"yolov8\", location=\"../dataset/plat-kendaraan/\")\n",
    "        \n",
    "        print(f\"✅ Dataset downloaded to: {dataset.location}\")\n",
    "        \n",
    "        if (dataset_path / \"data.yaml\").exists():\n",
    "            print(\"✅ Download verification successful\")\n",
    "        else:\n",
    "            print(\"⚠️  Download verification failed - please check dataset\")"
   ]
  },
  {
   "cell_type": "markdown",
   "metadata": {},
   "source": [
    "## 5. Alternative: Manual Dataset Download\n",
    "\n",
    "If you prefer to download manually:"
   ]
  },
  {
   "cell_type": "code",
   "execution_count": 5,
   "metadata": {
    "execution": {
     "iopub.execute_input": "2025-08-07T04:03:09.328021Z",
     "iopub.status.busy": "2025-08-07T04:03:09.327873Z",
     "iopub.status.idle": "2025-08-07T04:03:09.329938Z",
     "shell.execute_reply": "2025-08-07T04:03:09.329634Z"
    }
   },
   "outputs": [],
   "source": [
    "# # Alternative datasets to consider:\n",
    "# datasets_info = {\n",
    "#     \"Plat Kendaraan (Current Choice)\": {\n",
    "#         \"url\": \"https://universe.roboflow.com/plat-kendaraan/vehicle-and-license-plate\",\n",
    "#         \"images\": 2167,\n",
    "#         \"license\": \"MIT\",\n",
    "#         \"format\": \"YOLO\"\n",
    "#     },\n",
    "#     \"KSP WORKSPACE (Alternative)\": {\n",
    "#         \"url\": \"https://universe.roboflow.com/ksp-workspace/indonesia-license-plate-iqrtj/dataset/2\",\n",
    "#         \"images\": 1607,\n",
    "#         \"license\": \"CC BY 4.0\",\n",
    "#         \"format\": \"YOLO\"\n",
    "#     },\n",
    "#     \"Kaggle Indonesian LP\": {\n",
    "#         \"url\": \"https://www.kaggle.com/datasets/juanthomaswijaya/indonesian-license-plate-dataset\",\n",
    "#         \"images\": 1000,\n",
    "#         \"license\": \"Kaggle\",\n",
    "#         \"format\": \"YOLO\"\n",
    "#     }\n",
    "# }\n",
    "\n",
    "# print(\"Available Indonesian License Plate Datasets:\")\n",
    "# print(\"=\" * 50)\n",
    "# for name, info in datasets_info.items():\n",
    "#     print(f\"\\n{name}:\")\n",
    "#     print(f\"  URL: {info['url']}\")\n",
    "#     print(f\"  Images: {info['images']}\")\n",
    "#     print(f\"  License: {info['license']}\")\n",
    "#     print(f\"  Format: {info['format']}\")"
   ]
  },
  {
   "cell_type": "markdown",
   "metadata": {},
   "source": [
    "## 6. Dataset Verification (Run after download)"
   ]
  },
  {
   "cell_type": "code",
   "execution_count": 6,
   "metadata": {
    "execution": {
     "iopub.execute_input": "2025-08-07T04:03:09.331053Z",
     "iopub.status.busy": "2025-08-07T04:03:09.330934Z",
     "iopub.status.idle": "2025-08-07T04:03:09.365013Z",
     "shell.execute_reply": "2025-08-07T04:03:09.364643Z"
    }
   },
   "outputs": [
    {
     "name": "stdout",
     "output_type": "stream",
     "text": [
      "✅ Dataset found at: /home/ciheul/license-plate-rafael-jonathan/license-plate-training/notebooks/../dataset/plat-kendaraan\n",
      "\n",
      "Dataset directory structure:\n",
      "  📄 README.dataset.txt\n",
      "  📄 README.roboflow.txt\n",
      "  📄 data.yaml\n",
      "  📁 test/ (42 files)\n",
      "  📁 train/ (10200 files)\n",
      "  📁 valid/ (864 files)\n",
      "\n",
      "🎯 Dataset ready for data exploration!\n"
     ]
    }
   ],
   "source": [
    "# Check if dataset was downloaded\n",
    "dataset_path = Path(\"../dataset/plat-kendaraan\")\n",
    "\n",
    "if dataset_path.exists():\n",
    "    print(f\"✅ Dataset found at: {dataset_path.absolute()}\")\n",
    "    print(\"\\nDataset directory structure:\")\n",
    "    \n",
    "    # Show main files and directories\n",
    "    for item in sorted(dataset_path.iterdir()):\n",
    "        if item.is_dir():\n",
    "            # Count files in subdirectories\n",
    "            file_count = len(list(item.rglob(\"*.*\")))\n",
    "            print(f\"  📁 {item.name}/ ({file_count} files)\")\n",
    "        else:\n",
    "            print(f\"  📄 {item.name}\")\n",
    "    \n",
    "    print(f\"\\n🎯 Dataset ready for data exploration!\")\n",
    "else:\n",
    "    print(\"❌ Dataset not found. Please run the download section first.\")"
   ]
  },
  {
   "cell_type": "code",
   "execution_count": 7,
   "metadata": {
    "execution": {
     "iopub.execute_input": "2025-08-07T04:03:09.366197Z",
     "iopub.status.busy": "2025-08-07T04:03:09.366077Z",
     "iopub.status.idle": "2025-08-07T04:03:09.387463Z",
     "shell.execute_reply": "2025-08-07T04:03:09.387111Z"
    }
   },
   "outputs": [
    {
     "name": "stdout",
     "output_type": "stream",
     "text": [
      "Dataset Analysis:\n",
      "========================================\n",
      "TRAIN:\n",
      "  Images: 5100\n",
      "  Labels: 5100\n",
      "  Match: ✅\n",
      "VALID:\n",
      "  Images: 432\n",
      "  Labels: 432\n",
      "  Match: ✅\n",
      "TEST:\n",
      "  Images: 21\n",
      "  Labels: 21\n",
      "  Match: ✅\n",
      "\n",
      "TOTAL:\n",
      "  Images: 5553\n",
      "  Labels: 5553\n",
      "  Overall Match: ✅\n",
      "\n",
      "✅ YAML config found: ../dataset/plat-kendaraan/data.yaml\n",
      "YAML contents:\n",
      "  names: ['License_Plate']\n",
      "  nc: 1\n",
      "  roboflow: {'license': 'MIT', 'project': 'vehicle-and-license-plate', 'url': 'https://universe.roboflow.com/plat-kendaraan/vehicle-and-license-plate/dataset/1', 'version': 1, 'workspace': 'plat-kendaraan'}\n",
      "  test: ../test/images\n",
      "  train: ../train/images\n",
      "  val: ../valid/images\n"
     ]
    }
   ],
   "source": [
    "# Basic dataset statistics (run after download)\n",
    "def analyze_dataset(dataset_root):\n",
    "    dataset_root = Path(dataset_root)\n",
    "    \n",
    "    if not dataset_root.exists():\n",
    "        print(f\"Dataset path {dataset_root} does not exist\")\n",
    "        return\n",
    "    \n",
    "    splits = ['train', 'valid', 'test']\n",
    "    total_images = 0\n",
    "    total_labels = 0\n",
    "    \n",
    "    print(\"Dataset Analysis:\")\n",
    "    print(\"=\" * 40)\n",
    "    \n",
    "    for split in splits:\n",
    "        images_dir = dataset_root / split / 'images'\n",
    "        labels_dir = dataset_root / split / 'labels'\n",
    "        \n",
    "        if images_dir.exists():\n",
    "            image_files = list(images_dir.glob('*.jpg')) + list(images_dir.glob('*.png'))\n",
    "            label_files = list(labels_dir.glob('*.txt')) if labels_dir.exists() else []\n",
    "            \n",
    "            print(f\"{split.upper()}:\")\n",
    "            print(f\"  Images: {len(image_files)}\")\n",
    "            print(f\"  Labels: {len(label_files)}\")\n",
    "            print(f\"  Match: {'✅' if len(image_files) == len(label_files) else '⚠️'}\")\n",
    "            \n",
    "            total_images += len(image_files)\n",
    "            total_labels += len(label_files)\n",
    "    \n",
    "    print(f\"\\nTOTAL:\")\n",
    "    print(f\"  Images: {total_images}\")\n",
    "    print(f\"  Labels: {total_labels}\")\n",
    "    print(f\"  Overall Match: {'✅' if total_images == total_labels else '⚠️'}\")\n",
    "    \n",
    "    # Check for data.yaml\n",
    "    yaml_file = dataset_root / 'data.yaml'\n",
    "    if yaml_file.exists():\n",
    "        print(f\"\\n✅ YAML config found: {yaml_file}\")\n",
    "        try:\n",
    "            import yaml\n",
    "            with open(yaml_file, 'r') as f:\n",
    "                config = yaml.safe_load(f)\n",
    "            print(\"YAML contents:\")\n",
    "            for key, value in config.items():\n",
    "                print(f\"  {key}: {value}\")\n",
    "        except Exception as e:\n",
    "            print(f\"⚠️  Could not read YAML: {e}\")\n",
    "    else:\n",
    "        print(f\"\\n❌ YAML config not found\")\n",
    "\n",
    "# Run analysis with correct path\n",
    "analyze_dataset(\"../dataset/plat-kendaraan\")"
   ]
  },
  {
   "cell_type": "markdown",
   "metadata": {},
   "source": [
    "## 7. Test YOLOv8 Installation"
   ]
  },
  {
   "cell_type": "code",
   "execution_count": 8,
   "metadata": {
    "execution": {
     "iopub.execute_input": "2025-08-07T04:03:09.388749Z",
     "iopub.status.busy": "2025-08-07T04:03:09.388627Z",
     "iopub.status.idle": "2025-08-07T04:03:09.453770Z",
     "shell.execute_reply": "2025-08-07T04:03:09.453319Z"
    }
   },
   "outputs": [
    {
     "name": "stdout",
     "output_type": "stream",
     "text": [
      "Testing YOLOv8 installation...\n",
      "✓ YOLOv8 model loaded successfully\n",
      "✓ Model type: <class 'ultralytics.models.yolo.model.YOLO'>\n",
      "✓ Model device: cpu\n",
      "YOLOv8n summary: 129 layers, 3,157,200 parameters, 0 gradients, 8.9 GFLOPs\n"
     ]
    }
   ],
   "source": [
    "from ultralytics import YOLO\n",
    "\n",
    "# Test YOLO model loading\n",
    "print(\"Testing YOLOv8 installation...\")\n",
    "try:\n",
    "    # Load a pretrained YOLOv8 nano model\n",
    "    model = YOLO('yolov8n.pt')\n",
    "    print(\"✓ YOLOv8 model loaded successfully\")\n",
    "    print(f\"✓ Model type: {type(model)}\")\n",
    "    print(f\"✓ Model device: {model.device}\")\n",
    "    \n",
    "    # Test model info\n",
    "    model.info()\n",
    "    \n",
    "except Exception as e:\n",
    "    print(f\"✗ Error loading YOLOv8: {e}\")"
   ]
  },
  {
   "cell_type": "markdown",
   "metadata": {},
   "source": [
    "## 8. Setup Summary"
   ]
  },
  {
   "cell_type": "code",
   "execution_count": 9,
   "metadata": {
    "execution": {
     "iopub.execute_input": "2025-08-07T04:03:09.455164Z",
     "iopub.status.busy": "2025-08-07T04:03:09.455015Z",
     "iopub.status.idle": "2025-08-07T04:03:09.459005Z",
     "shell.execute_reply": "2025-08-07T04:03:09.458655Z"
    }
   },
   "outputs": [
    {
     "name": "stdout",
     "output_type": "stream",
     "text": [
      "Setup Summary Report:\n",
      "==============================\n",
      "Timestamp: 2025-08-07 11:03:09\n",
      "Python Version: 3.10.12\n",
      "Pytorch Version: 2.8.0+cu128\n",
      "Ultralytics Version: 8.3.175\n",
      "Cuda Available: True\n",
      "Gpu Count: 1\n",
      "Device: GPU\n",
      "\n",
      "Report saved to: ../results/reports/setup_report.json\n"
     ]
    }
   ],
   "source": [
    "# Generate setup report\n",
    "report = {\n",
    "    \"timestamp\": datetime.now().strftime(\"%Y-%m-%d %H:%M:%S\"),\n",
    "    \"python_version\": sys.version.split()[0],\n",
    "    \"pytorch_version\": torch.__version__,\n",
    "    \"ultralytics_version\": ultralytics.__version__,\n",
    "    \"cuda_available\": torch.cuda.is_available(),\n",
    "    \"gpu_count\": torch.cuda.device_count() if torch.cuda.is_available() else 0,\n",
    "    \"device\": \"GPU\" if torch.cuda.is_available() else \"CPU\"\n",
    "}\n",
    "\n",
    "print(\"Setup Summary Report:\")\n",
    "print(\"=\" * 30)\n",
    "for key, value in report.items():\n",
    "    print(f\"{key.replace('_', ' ').title()}: {value}\")\n",
    "\n",
    "# Save report\n",
    "import json\n",
    "report_path = Path(\"../results/reports/setup_report.json\")\n",
    "report_path.parent.mkdir(parents=True, exist_ok=True)\n",
    "\n",
    "with open(report_path, 'w') as f:\n",
    "    json.dump(report, f, indent=2)\n",
    "\n",
    "print(f\"\\nReport saved to: {report_path}\")"
   ]
  },
  {
   "cell_type": "markdown",
   "metadata": {},
   "source": [
    "## Next Steps\n",
    "\n",
    "After completing this notebook:\n",
    "\n",
    "1. **If dataset download successful:** Proceed to `02_data_exploration.ipynb`\n",
    "2. **If dataset download failed:** \n",
    "   - Get Roboflow API key and retry download\n",
    "   - Or manually download from Kaggle/other sources\n",
    "   - Update dataset paths accordingly\n",
    "\n",
    "3. **If GPU not available:**\n",
    "   - Training will be slower but still possible\n",
    "   - Consider reducing batch size and model complexity\n",
    "   - Or install CUDA-enabled PyTorch version\n",
    "\n",
    "4. **Production Integration:**\n",
    "   - Remember target output format for production compatibility\n",
    "   - Model will be saved as `best_model.pt` for transfer\n",
    "   - Final model path: `license-plate/cached_models/yolov8_indonesian_plates.pt`"
   ]
  }
 ],
 "metadata": {
  "kernelspec": {
   "display_name": "venv",
   "language": "python",
   "name": "python3"
  },
  "language_info": {
   "codemirror_mode": {
    "name": "ipython",
    "version": 3
   },
   "file_extension": ".py",
   "mimetype": "text/x-python",
   "name": "python",
   "nbconvert_exporter": "python",
   "pygments_lexer": "ipython3",
   "version": "3.10.12"
  }
 },
 "nbformat": 4,
 "nbformat_minor": 4
}
